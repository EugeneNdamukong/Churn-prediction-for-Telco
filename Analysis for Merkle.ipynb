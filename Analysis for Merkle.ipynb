{
 "cells": [
  {
   "cell_type": "markdown",
   "metadata": {},
   "source": [
    "# <font color='blue'>REPORT OF CHURN PREDICTION FOR TELCO </font>\n",
    "<div class=\"alert alert-block alert-info\">\n",
    "<b>Source:</b> Data from IBM community (Business analytics section) in relation to data science interview\n",
    "</div>"
   ]
  },
  {
   "cell_type": "code",
   "execution_count": 1,
   "metadata": {},
   "outputs": [
    {
     "data": {
      "text/plain": [
       "'0.20.4'"
      ]
     },
     "execution_count": 1,
     "metadata": {},
     "output_type": "execute_result"
    }
   ],
   "source": [
    "import sklearn\n",
    "sklearn.__version__"
   ]
  },
  {
   "cell_type": "code",
   "execution_count": 1,
   "metadata": {},
   "outputs": [],
   "source": [
    "#To eliminate warnings from the outputs\n",
    "import warnings\n",
    "warnings.filterwarnings(\"ignore\")\n",
    "\n",
    "#Libraries for data manipulation\n",
    "import pandas as p\n",
    "from numpy import nan\n",
    "import statistics\n",
    "from sklearn.preprocessing import scale\n",
    "import numpy as np\n",
    "from collections import Counter\n",
    "from sklearn import preprocessing\n",
    "from itertools import compress\n",
    "import math\n",
    "\n",
    "#Libraries for machine learning algorithms\n",
    "from sklearn.linear_model import LogisticRegression\n",
    "from sklearn.model_selection import train_test_split\n",
    "from sklearn.metrics import roc_auc_score\n",
    "from sklearn.ensemble import RandomForestClassifier, VotingClassifier\n",
    "from sklearn.model_selection import GridSearchCV\n",
    "from sklearn.feature_selection import RFECV\n",
    "from imblearn.over_sampling import SMOTE\n",
    "from sklearn.metrics import roc_curve\n",
    "from sklearn.metrics import classification_report\n",
    "from sklearn.ensemble import RandomForestRegressor\n",
    "from sklearn.feature_selection import SelectFromModel\n",
    "from sklearn.calibration import CalibratedClassifierCV\n",
    "from sklearn.ensemble import GradientBoostingClassifier\n",
    "from sklearn.naive_bayes import BernoulliNB\n",
    "from sklearn.neighbors import KNeighborsClassifier\n",
    "from sklearn.svm import LinearSVC\n",
    "from sklearn.cluster import KMeans\n",
    "\n",
    "#Libraries for data visualization\n",
    "import matplotlib.pyplot as plt\n",
    "import seaborn as sn\n",
    "import plotly.express as px"
   ]
  },
  {
   "cell_type": "code",
   "execution_count": 2,
   "metadata": {},
   "outputs": [],
   "source": [
    "#Importing the data set\n",
    "data = p.read_csv(\"C:/Users/eugen/Desktop/Work/Merkle/Customer_Churn.csv\")"
   ]
  },
  {
   "cell_type": "code",
   "execution_count": 8,
   "metadata": {},
   "outputs": [
    {
     "name": "stdout",
     "output_type": "stream",
     "text": [
      "7043\n"
     ]
    }
   ],
   "source": [
    "print(len(data))"
   ]
  },
  {
   "cell_type": "code",
   "execution_count": 108,
   "metadata": {},
   "outputs": [
    {
     "name": "stdout",
     "output_type": "stream",
     "text": [
      "22\n"
     ]
    }
   ],
   "source": [
    "print(len(list(data)))"
   ]
  },
  {
   "cell_type": "code",
   "execution_count": 4,
   "metadata": {},
   "outputs": [
    {
     "data": {
      "text/html": [
       "<div>\n",
       "<style scoped>\n",
       "    .dataframe tbody tr th:only-of-type {\n",
       "        vertical-align: middle;\n",
       "    }\n",
       "\n",
       "    .dataframe tbody tr th {\n",
       "        vertical-align: top;\n",
       "    }\n",
       "\n",
       "    .dataframe thead th {\n",
       "        text-align: right;\n",
       "    }\n",
       "</style>\n",
       "<table border=\"1\" class=\"dataframe\">\n",
       "  <thead>\n",
       "    <tr style=\"text-align: right;\">\n",
       "      <th></th>\n",
       "      <th>customerID</th>\n",
       "      <th>gender</th>\n",
       "      <th>SeniorCitizen</th>\n",
       "      <th>Partner</th>\n",
       "      <th>Dependents</th>\n",
       "      <th>tenure</th>\n",
       "      <th>PhoneService</th>\n",
       "      <th>MultipleLines</th>\n",
       "      <th>InternetService</th>\n",
       "      <th>OnlineSecurity</th>\n",
       "      <th>OnlineBackup</th>\n",
       "      <th>DeviceProtection</th>\n",
       "      <th>TechSupport</th>\n",
       "    </tr>\n",
       "  </thead>\n",
       "  <tbody>\n",
       "    <tr>\n",
       "      <th>0</th>\n",
       "      <td>7590-VHVEG</td>\n",
       "      <td>Female</td>\n",
       "      <td>0</td>\n",
       "      <td>Yes</td>\n",
       "      <td>No</td>\n",
       "      <td>1</td>\n",
       "      <td>No</td>\n",
       "      <td>No phone service</td>\n",
       "      <td>DSL</td>\n",
       "      <td>No</td>\n",
       "      <td>Yes</td>\n",
       "      <td>No</td>\n",
       "      <td>No</td>\n",
       "    </tr>\n",
       "    <tr>\n",
       "      <th>1</th>\n",
       "      <td>5575-GNVDE</td>\n",
       "      <td>Male</td>\n",
       "      <td>0</td>\n",
       "      <td>No</td>\n",
       "      <td>No</td>\n",
       "      <td>34</td>\n",
       "      <td>Yes</td>\n",
       "      <td>No</td>\n",
       "      <td>DSL</td>\n",
       "      <td>Yes</td>\n",
       "      <td>No</td>\n",
       "      <td>Yes</td>\n",
       "      <td>No</td>\n",
       "    </tr>\n",
       "    <tr>\n",
       "      <th>2</th>\n",
       "      <td>3668-QPYBK</td>\n",
       "      <td>Male</td>\n",
       "      <td>0</td>\n",
       "      <td>No</td>\n",
       "      <td>No</td>\n",
       "      <td>2</td>\n",
       "      <td>Yes</td>\n",
       "      <td>No</td>\n",
       "      <td>DSL</td>\n",
       "      <td>Yes</td>\n",
       "      <td>Yes</td>\n",
       "      <td>No</td>\n",
       "      <td>No</td>\n",
       "    </tr>\n",
       "    <tr>\n",
       "      <th>3</th>\n",
       "      <td>7795-CFOCW</td>\n",
       "      <td>Male</td>\n",
       "      <td>0</td>\n",
       "      <td>No</td>\n",
       "      <td>No</td>\n",
       "      <td>45</td>\n",
       "      <td>No</td>\n",
       "      <td>No phone service</td>\n",
       "      <td>DSL</td>\n",
       "      <td>Yes</td>\n",
       "      <td>No</td>\n",
       "      <td>Yes</td>\n",
       "      <td>Yes</td>\n",
       "    </tr>\n",
       "    <tr>\n",
       "      <th>4</th>\n",
       "      <td>9237-HQITU</td>\n",
       "      <td>Female</td>\n",
       "      <td>0</td>\n",
       "      <td>No</td>\n",
       "      <td>No</td>\n",
       "      <td>2</td>\n",
       "      <td>Yes</td>\n",
       "      <td>No</td>\n",
       "      <td>Fiber optic</td>\n",
       "      <td>No</td>\n",
       "      <td>No</td>\n",
       "      <td>No</td>\n",
       "      <td>No</td>\n",
       "    </tr>\n",
       "  </tbody>\n",
       "</table>\n",
       "</div>"
      ],
      "text/plain": [
       "   customerID  gender  SeniorCitizen Partner Dependents  tenure PhoneService  \\\n",
       "0  7590-VHVEG  Female              0     Yes         No       1           No   \n",
       "1  5575-GNVDE    Male              0      No         No      34          Yes   \n",
       "2  3668-QPYBK    Male              0      No         No       2          Yes   \n",
       "3  7795-CFOCW    Male              0      No         No      45           No   \n",
       "4  9237-HQITU  Female              0      No         No       2          Yes   \n",
       "\n",
       "      MultipleLines InternetService OnlineSecurity OnlineBackup  \\\n",
       "0  No phone service             DSL             No          Yes   \n",
       "1                No             DSL            Yes           No   \n",
       "2                No             DSL            Yes          Yes   \n",
       "3  No phone service             DSL            Yes           No   \n",
       "4                No     Fiber optic             No           No   \n",
       "\n",
       "  DeviceProtection TechSupport  \n",
       "0               No          No  \n",
       "1              Yes          No  \n",
       "2               No          No  \n",
       "3              Yes         Yes  \n",
       "4               No          No  "
      ]
     },
     "execution_count": 4,
     "metadata": {},
     "output_type": "execute_result"
    }
   ],
   "source": [
    "data.loc[:,\"customerID\":\"TechSupport\"].head()"
   ]
  },
  {
   "cell_type": "code",
   "execution_count": 6,
   "metadata": {},
   "outputs": [
    {
     "data": {
      "text/html": [
       "<div>\n",
       "<style scoped>\n",
       "    .dataframe tbody tr th:only-of-type {\n",
       "        vertical-align: middle;\n",
       "    }\n",
       "\n",
       "    .dataframe tbody tr th {\n",
       "        vertical-align: top;\n",
       "    }\n",
       "\n",
       "    .dataframe thead th {\n",
       "        text-align: right;\n",
       "    }\n",
       "</style>\n",
       "<table border=\"1\" class=\"dataframe\">\n",
       "  <thead>\n",
       "    <tr style=\"text-align: right;\">\n",
       "      <th></th>\n",
       "      <th>StreamingTV</th>\n",
       "      <th>StreamingMovies</th>\n",
       "      <th>Contract</th>\n",
       "      <th>PaperlessBilling</th>\n",
       "      <th>PaymentMethod</th>\n",
       "      <th>MonthlyCharges</th>\n",
       "      <th>TotalCharges</th>\n",
       "      <th>Churn</th>\n",
       "    </tr>\n",
       "  </thead>\n",
       "  <tbody>\n",
       "    <tr>\n",
       "      <th>0</th>\n",
       "      <td>No</td>\n",
       "      <td>No</td>\n",
       "      <td>Month-to-month</td>\n",
       "      <td>Yes</td>\n",
       "      <td>Electronic check</td>\n",
       "      <td>29.85</td>\n",
       "      <td>29.85</td>\n",
       "      <td>No</td>\n",
       "    </tr>\n",
       "    <tr>\n",
       "      <th>1</th>\n",
       "      <td>No</td>\n",
       "      <td>No</td>\n",
       "      <td>One year</td>\n",
       "      <td>No</td>\n",
       "      <td>Mailed check</td>\n",
       "      <td>56.95</td>\n",
       "      <td>1889.5</td>\n",
       "      <td>No</td>\n",
       "    </tr>\n",
       "    <tr>\n",
       "      <th>2</th>\n",
       "      <td>No</td>\n",
       "      <td>No</td>\n",
       "      <td>Month-to-month</td>\n",
       "      <td>Yes</td>\n",
       "      <td>Mailed check</td>\n",
       "      <td>53.85</td>\n",
       "      <td>108.15</td>\n",
       "      <td>Yes</td>\n",
       "    </tr>\n",
       "    <tr>\n",
       "      <th>3</th>\n",
       "      <td>No</td>\n",
       "      <td>No</td>\n",
       "      <td>One year</td>\n",
       "      <td>No</td>\n",
       "      <td>Bank transfer (automatic)</td>\n",
       "      <td>42.30</td>\n",
       "      <td>1840.75</td>\n",
       "      <td>No</td>\n",
       "    </tr>\n",
       "    <tr>\n",
       "      <th>4</th>\n",
       "      <td>No</td>\n",
       "      <td>No</td>\n",
       "      <td>Month-to-month</td>\n",
       "      <td>Yes</td>\n",
       "      <td>Electronic check</td>\n",
       "      <td>70.70</td>\n",
       "      <td>151.65</td>\n",
       "      <td>Yes</td>\n",
       "    </tr>\n",
       "  </tbody>\n",
       "</table>\n",
       "</div>"
      ],
      "text/plain": [
       "  StreamingTV StreamingMovies        Contract PaperlessBilling  \\\n",
       "0          No              No  Month-to-month              Yes   \n",
       "1          No              No        One year               No   \n",
       "2          No              No  Month-to-month              Yes   \n",
       "3          No              No        One year               No   \n",
       "4          No              No  Month-to-month              Yes   \n",
       "\n",
       "               PaymentMethod  MonthlyCharges TotalCharges Churn  \n",
       "0           Electronic check           29.85        29.85    No  \n",
       "1               Mailed check           56.95       1889.5    No  \n",
       "2               Mailed check           53.85       108.15   Yes  \n",
       "3  Bank transfer (automatic)           42.30      1840.75    No  \n",
       "4           Electronic check           70.70       151.65   Yes  "
      ]
     },
     "execution_count": 6,
     "metadata": {},
     "output_type": "execute_result"
    }
   ],
   "source": [
    "data.loc[:,\"StreamingTV\":\"Churn\"].head()"
   ]
  },
  {
   "cell_type": "markdown",
   "metadata": {},
   "source": [
    "# Data exploration analysis"
   ]
  },
  {
   "cell_type": "markdown",
   "metadata": {},
   "source": [
    "## 1) Descriptive statistics and Visualization"
   ]
  },
  {
   "cell_type": "code",
   "execution_count": 3,
   "metadata": {},
   "outputs": [],
   "source": [
    "#Converting the Total charges column from string to numeric\n",
    "TotalCharges_num = []\n",
    "for i in range(0,len(data[\"TotalCharges\"])):\n",
    "    if data.loc[i,\"TotalCharges\"] != ' ':\n",
    "        TotalCharges_num.append(float(data.loc[i,\"TotalCharges\"]))\n",
    "    else:\n",
    "        TotalCharges_num.append(0)\n",
    "\n",
    "data[\"TotalCharges\"] = TotalCharges_num\n",
    "    "
   ]
  },
  {
   "cell_type": "code",
   "execution_count": 59,
   "metadata": {},
   "outputs": [
    {
     "data": {
      "text/html": [
       "<div>\n",
       "<style scoped>\n",
       "    .dataframe tbody tr th:only-of-type {\n",
       "        vertical-align: middle;\n",
       "    }\n",
       "\n",
       "    .dataframe tbody tr th {\n",
       "        vertical-align: top;\n",
       "    }\n",
       "\n",
       "    .dataframe thead th {\n",
       "        text-align: right;\n",
       "    }\n",
       "</style>\n",
       "<table border=\"1\" class=\"dataframe\">\n",
       "  <thead>\n",
       "    <tr style=\"text-align: right;\">\n",
       "      <th></th>\n",
       "      <th>tenure</th>\n",
       "      <th>MonthlyCharges</th>\n",
       "      <th>TotalCharges</th>\n",
       "    </tr>\n",
       "  </thead>\n",
       "  <tbody>\n",
       "    <tr>\n",
       "      <th>count</th>\n",
       "      <td>7043.000000</td>\n",
       "      <td>7043.000000</td>\n",
       "      <td>7043.000000</td>\n",
       "    </tr>\n",
       "    <tr>\n",
       "      <th>mean</th>\n",
       "      <td>32.371149</td>\n",
       "      <td>64.761692</td>\n",
       "      <td>2279.734304</td>\n",
       "    </tr>\n",
       "    <tr>\n",
       "      <th>std</th>\n",
       "      <td>24.559481</td>\n",
       "      <td>30.090047</td>\n",
       "      <td>2266.794470</td>\n",
       "    </tr>\n",
       "    <tr>\n",
       "      <th>min</th>\n",
       "      <td>0.000000</td>\n",
       "      <td>18.250000</td>\n",
       "      <td>0.000000</td>\n",
       "    </tr>\n",
       "    <tr>\n",
       "      <th>25%</th>\n",
       "      <td>9.000000</td>\n",
       "      <td>35.500000</td>\n",
       "      <td>398.550000</td>\n",
       "    </tr>\n",
       "    <tr>\n",
       "      <th>50%</th>\n",
       "      <td>29.000000</td>\n",
       "      <td>70.350000</td>\n",
       "      <td>1394.550000</td>\n",
       "    </tr>\n",
       "    <tr>\n",
       "      <th>75%</th>\n",
       "      <td>55.000000</td>\n",
       "      <td>89.850000</td>\n",
       "      <td>3786.600000</td>\n",
       "    </tr>\n",
       "    <tr>\n",
       "      <th>max</th>\n",
       "      <td>72.000000</td>\n",
       "      <td>118.750000</td>\n",
       "      <td>8684.800000</td>\n",
       "    </tr>\n",
       "  </tbody>\n",
       "</table>\n",
       "</div>"
      ],
      "text/plain": [
       "            tenure  MonthlyCharges  TotalCharges\n",
       "count  7043.000000     7043.000000   7043.000000\n",
       "mean     32.371149       64.761692   2279.734304\n",
       "std      24.559481       30.090047   2266.794470\n",
       "min       0.000000       18.250000      0.000000\n",
       "25%       9.000000       35.500000    398.550000\n",
       "50%      29.000000       70.350000   1394.550000\n",
       "75%      55.000000       89.850000   3786.600000\n",
       "max      72.000000      118.750000   8684.800000"
      ]
     },
     "execution_count": 59,
     "metadata": {},
     "output_type": "execute_result"
    }
   ],
   "source": [
    "#Descriptive statistics of the numeric features\n",
    "data.loc[:,[\"tenure\",\"MonthlyCharges\",\"TotalCharges\"]].describe()\n"
   ]
  },
  {
   "cell_type": "code",
   "execution_count": 4,
   "metadata": {},
   "outputs": [
    {
     "data": {
      "text/html": [
       "<div>\n",
       "<style scoped>\n",
       "    .dataframe tbody tr th:only-of-type {\n",
       "        vertical-align: middle;\n",
       "    }\n",
       "\n",
       "    .dataframe tbody tr th {\n",
       "        vertical-align: top;\n",
       "    }\n",
       "\n",
       "    .dataframe thead th {\n",
       "        text-align: right;\n",
       "    }\n",
       "</style>\n",
       "<table border=\"1\" class=\"dataframe\">\n",
       "  <thead>\n",
       "    <tr style=\"text-align: right;\">\n",
       "      <th></th>\n",
       "      <th>tenure</th>\n",
       "      <th>MonthlyCharges</th>\n",
       "      <th>TotalCharges</th>\n",
       "    </tr>\n",
       "  </thead>\n",
       "  <tbody>\n",
       "    <tr>\n",
       "      <th>tenure</th>\n",
       "      <td>1.000000</td>\n",
       "      <td>0.401286</td>\n",
       "      <td>0.954017</td>\n",
       "    </tr>\n",
       "    <tr>\n",
       "      <th>MonthlyCharges</th>\n",
       "      <td>0.401286</td>\n",
       "      <td>1.000000</td>\n",
       "      <td>0.545772</td>\n",
       "    </tr>\n",
       "    <tr>\n",
       "      <th>TotalCharges</th>\n",
       "      <td>0.954017</td>\n",
       "      <td>0.545772</td>\n",
       "      <td>1.000000</td>\n",
       "    </tr>\n",
       "  </tbody>\n",
       "</table>\n",
       "</div>"
      ],
      "text/plain": [
       "                  tenure  MonthlyCharges  TotalCharges\n",
       "tenure          1.000000        0.401286      0.954017\n",
       "MonthlyCharges  0.401286        1.000000      0.545772\n",
       "TotalCharges    0.954017        0.545772      1.000000"
      ]
     },
     "execution_count": 4,
     "metadata": {},
     "output_type": "execute_result"
    }
   ],
   "source": [
    "#Correlation matrix of quantitative features\n",
    "data.loc[data[\"Churn\"]=='Yes',[\"tenure\",\"MonthlyCharges\",\"TotalCharges\"]].corr()"
   ]
  },
  {
   "cell_type": "code",
   "execution_count": 20,
   "metadata": {},
   "outputs": [
    {
     "data": {
      "image/png": "[encoded data removed]",
      "text/plain": [
       "<Figure size 1152x288 with 4 Axes>"
      ]
     },
     "metadata": {
      "needs_background": "light"
     },
     "output_type": "display_data"
    }
   ],
   "source": [
    "#Correlation heatmap of the numeric features\n",
    "#plt.figure(figsize= (12, 6))\n",
    "figure, axes = plt.subplots(nrows=1, ncols=2,figsize=(16,4))\n",
    "sn.heatmap(data.loc[data[\"Churn\"]=='Yes',[\"tenure\",\"MonthlyCharges\",\"TotalCharges\"]].corr(),ax=axes[0])\n",
    "axes[0].set_title(\"Churned\")\n",
    "sn.heatmap(data.loc[data[\"Churn\"]=='No',[\"tenure\",\"MonthlyCharges\",\"TotalCharges\"]].corr(),ax=axes[1])\n",
    "axes[1].set_title(\"Not churned\")\n",
    "plt.show()"
   ]
  },
  {
   "cell_type": "code",
   "execution_count": 111,
   "metadata": {},
   "outputs": [
    {
     "data": {
      "image/png": "[encoded data removed]",
      "text/plain": [
       "<Figure size 432x288 with 1 Axes>"
      ]
     },
     "metadata": {
      "needs_background": "light"
     },
     "output_type": "display_data"
    }
   ],
   "source": [
    "#Distribution of the churn status\n",
    "sn.countplot(x=\"Churn\", data=data,hue='Churn')\n",
    "plt.show()"
   ]
  },
  {
   "cell_type": "code",
   "execution_count": 115,
   "metadata": {},
   "outputs": [
    {
     "name": "stdout",
     "output_type": "stream",
     "text": [
      "1869\n",
      "5174\n"
     ]
    }
   ],
   "source": [
    "print(len(data.loc[data[\"Churn\"]=='Yes',]))\n",
    "print(len(data.loc[data[\"Churn\"]=='No',]))"
   ]
  },
  {
   "cell_type": "code",
   "execution_count": 22,
   "metadata": {},
   "outputs": [
    {
     "data": {
      "image/png": "[encoded data removed]",
      "text/plain": [
       "<Figure size 1152x288 with 4 Axes>"
      ]
     },
     "metadata": {
      "needs_background": "light"
     },
     "output_type": "display_data"
    }
   ],
   "source": [
    "####################### DEMOGRAPHIC INFO ##################################\n",
    "#gender, age range, and if they have partners and dependents\n",
    "figure, axes = plt.subplots(nrows=2, ncols=2,figsize=(16,4))\n",
    "sn.countplot(x=\"Churn\", data=data,hue='gender', palette=\"Blues_d\", ax=axes[0,0])\n",
    "sn.countplot(x=\"Churn\", data=data,hue='SeniorCitizen', palette=\"Blues_d\", ax=axes[0,1])\n",
    "sn.countplot(x=\"Churn\", data=data,hue='Partner', palette=\"Blues_d\", ax=axes[1,0])\n",
    "sn.countplot(x=\"Churn\", data=data,hue='Dependents', palette=\"Blues_d\", ax=axes[1,1])\n",
    "plt.show()"
   ]
  },
  {
   "cell_type": "code",
   "execution_count": 29,
   "metadata": {},
   "outputs": [
    {
     "data": {
      "image/png": "[encoded data removed]",
      "text/plain": [
       "<Figure size 1152x648 with 3 Axes>"
      ]
     },
     "metadata": {
      "needs_background": "light"
     },
     "output_type": "display_data"
    }
   ],
   "source": [
    "########################### CUSTOMER ACCOUNT INFO #########################################\n",
    "#contract, payment method, paperless billing\n",
    "figure, axes = plt.subplots(nrows=1, ncols=3,figsize=(16,9))\n",
    "sn.countplot(x=\"Churn\", data=data,hue='Contract', palette=\"Reds_d\", ax=axes[0])\n",
    "sn.countplot(x=\"Churn\", data=data,hue='PaperlessBilling', palette=\"Reds_d\", ax=axes[1])\n",
    "sn.countplot(x=\"Churn\", data=data,hue='PaymentMethod', palette=\"Reds_d\", ax=axes[2])\n",
    "plt.show()\n"
   ]
  },
  {
   "cell_type": "code",
   "execution_count": 24,
   "metadata": {},
   "outputs": [
    {
     "data": {
      "image/png": "[encoded data removed]",
      "text/plain": [
       "<Figure size 1152x864 with 9 Axes>"
      ]
     },
     "metadata": {
      "needs_background": "light"
     },
     "output_type": "display_data"
    }
   ],
   "source": [
    "############################## SIGNED UP SERVICES ###########################################\n",
    "#phone, multiple lines, internet, online security, online backup, device protection, tech support, and streaming TV and movies\n",
    "figure, axes = plt.subplots(nrows=3, ncols=3,figsize=(16,12))\n",
    "sn.countplot(x=\"Churn\", data=data,hue='PhoneService', palette=\"Greens_d\", ax=axes[0,0])\n",
    "sn.countplot(x=\"Churn\", data=data,hue='MultipleLines', palette=\"Greens_d\", ax=axes[0,1])\n",
    "sn.countplot(x=\"Churn\", data=data,hue='InternetService', palette=\"Greens_d\", ax=axes[0,2])\n",
    "sn.countplot(x=\"Churn\", data=data,hue='OnlineSecurity', palette=\"Greens_d\", ax=axes[1,0])\n",
    "sn.countplot(x=\"Churn\", data=data,hue='OnlineBackup', palette=\"Greens_d\", ax=axes[1,1])\n",
    "sn.countplot(x=\"Churn\", data=data,hue='DeviceProtection', palette=\"Greens_d\", ax=axes[1,2])\n",
    "sn.countplot(x=\"Churn\", data=data,hue='TechSupport', palette=\"Greens_d\", ax=axes[2,0])\n",
    "sn.countplot(x=\"Churn\", data=data,hue='StreamingTV', palette=\"Greens_d\", ax=axes[2,1])\n",
    "sn.countplot(x=\"Churn\", data=data,hue='StreamingMovies', palette=\"Greens_d\", ax=axes[2,2])\n",
    "plt.show()"
   ]
  },
  {
   "cell_type": "code",
   "execution_count": null,
   "metadata": {},
   "outputs": [],
   "source": []
  },
  {
   "cell_type": "markdown",
   "metadata": {},
   "source": [
    "# Feature engineering and Pre-processing"
   ]
  },
  {
   "cell_type": "markdown",
   "metadata": {},
   "source": [
    "1. **Handling missing observation:**\n",
    "2. **Dummy variable creation:** \n",
    "3. **Creation of other new features:** \n",
    "3. **Handling outliers:** "
   ]
  },
  {
   "cell_type": "markdown",
   "metadata": {},
   "source": [
    "### 1.1 Missing values"
   ]
  },
  {
   "cell_type": "code",
   "execution_count": 59,
   "metadata": {},
   "outputs": [
    {
     "data": {
      "text/html": [
       "<div>\n",
       "<style scoped>\n",
       "    .dataframe tbody tr th:only-of-type {\n",
       "        vertical-align: middle;\n",
       "    }\n",
       "\n",
       "    .dataframe tbody tr th {\n",
       "        vertical-align: top;\n",
       "    }\n",
       "\n",
       "    .dataframe thead th {\n",
       "        text-align: right;\n",
       "    }\n",
       "</style>\n",
       "<table border=\"1\" class=\"dataframe\">\n",
       "  <thead>\n",
       "    <tr style=\"text-align: right;\">\n",
       "      <th></th>\n",
       "      <th>Missing</th>\n",
       "    </tr>\n",
       "  </thead>\n",
       "  <tbody>\n",
       "    <tr>\n",
       "      <th>Churn</th>\n",
       "      <td>0</td>\n",
       "    </tr>\n",
       "    <tr>\n",
       "      <th>TotalCharges</th>\n",
       "      <td>0</td>\n",
       "    </tr>\n",
       "    <tr>\n",
       "      <th>SeniorCitizen</th>\n",
       "      <td>0</td>\n",
       "    </tr>\n",
       "    <tr>\n",
       "      <th>Partner</th>\n",
       "      <td>0</td>\n",
       "    </tr>\n",
       "    <tr>\n",
       "      <th>Dependents</th>\n",
       "      <td>0</td>\n",
       "    </tr>\n",
       "    <tr>\n",
       "      <th>tenure</th>\n",
       "      <td>0</td>\n",
       "    </tr>\n",
       "    <tr>\n",
       "      <th>PhoneService</th>\n",
       "      <td>0</td>\n",
       "    </tr>\n",
       "    <tr>\n",
       "      <th>MultipleLines</th>\n",
       "      <td>0</td>\n",
       "    </tr>\n",
       "    <tr>\n",
       "      <th>InternetService</th>\n",
       "      <td>0</td>\n",
       "    </tr>\n",
       "    <tr>\n",
       "      <th>OnlineSecurity</th>\n",
       "      <td>0</td>\n",
       "    </tr>\n",
       "    <tr>\n",
       "      <th>OnlineBackup</th>\n",
       "      <td>0</td>\n",
       "    </tr>\n",
       "    <tr>\n",
       "      <th>DeviceProtection</th>\n",
       "      <td>0</td>\n",
       "    </tr>\n",
       "    <tr>\n",
       "      <th>TechSupport</th>\n",
       "      <td>0</td>\n",
       "    </tr>\n",
       "    <tr>\n",
       "      <th>StreamingTV</th>\n",
       "      <td>0</td>\n",
       "    </tr>\n",
       "    <tr>\n",
       "      <th>StreamingMovies</th>\n",
       "      <td>0</td>\n",
       "    </tr>\n",
       "    <tr>\n",
       "      <th>Contract</th>\n",
       "      <td>0</td>\n",
       "    </tr>\n",
       "    <tr>\n",
       "      <th>PaperlessBilling</th>\n",
       "      <td>0</td>\n",
       "    </tr>\n",
       "    <tr>\n",
       "      <th>PaymentMethod</th>\n",
       "      <td>0</td>\n",
       "    </tr>\n",
       "    <tr>\n",
       "      <th>MonthlyCharges</th>\n",
       "      <td>0</td>\n",
       "    </tr>\n",
       "    <tr>\n",
       "      <th>gender</th>\n",
       "      <td>0</td>\n",
       "    </tr>\n",
       "  </tbody>\n",
       "</table>\n",
       "</div>"
      ],
      "text/plain": [
       "                  Missing\n",
       "Churn                   0\n",
       "TotalCharges            0\n",
       "SeniorCitizen           0\n",
       "Partner                 0\n",
       "Dependents              0\n",
       "tenure                  0\n",
       "PhoneService            0\n",
       "MultipleLines           0\n",
       "InternetService         0\n",
       "OnlineSecurity          0\n",
       "OnlineBackup            0\n",
       "DeviceProtection        0\n",
       "TechSupport             0\n",
       "StreamingTV             0\n",
       "StreamingMovies         0\n",
       "Contract                0\n",
       "PaperlessBilling        0\n",
       "PaymentMethod           0\n",
       "MonthlyCharges          0\n",
       "gender                  0"
      ]
     },
     "execution_count": 59,
     "metadata": {},
     "output_type": "execute_result"
    }
   ],
   "source": [
    "#Number of missing data per variable in train set\n",
    "missing_df = p.DataFrame(data.loc[:,\"gender\":\"Churn\"].isnull().sum().sort_values(ascending=False),columns=['Missing'])\n",
    "missing_df"
   ]
  },
  {
   "cell_type": "markdown",
   "metadata": {},
   "source": [
    "### 1.2 Dummification"
   ]
  },
  {
   "cell_type": "code",
   "execution_count": 5,
   "metadata": {},
   "outputs": [
    {
     "data": {
      "text/html": [
       "<div>\n",
       "<style scoped>\n",
       "    .dataframe tbody tr th:only-of-type {\n",
       "        vertical-align: middle;\n",
       "    }\n",
       "\n",
       "    .dataframe tbody tr th {\n",
       "        vertical-align: top;\n",
       "    }\n",
       "\n",
       "    .dataframe thead th {\n",
       "        text-align: right;\n",
       "    }\n",
       "</style>\n",
       "<table border=\"1\" class=\"dataframe\">\n",
       "  <thead>\n",
       "    <tr style=\"text-align: right;\">\n",
       "      <th></th>\n",
       "      <th>SeniorCitizen</th>\n",
       "      <th>tenure</th>\n",
       "      <th>MonthlyCharges</th>\n",
       "      <th>TotalCharges</th>\n",
       "      <th>gender_Female</th>\n",
       "      <th>gender_Male</th>\n",
       "      <th>Partner_No</th>\n",
       "      <th>Partner_Yes</th>\n",
       "      <th>Dependents_No</th>\n",
       "      <th>Dependents_Yes</th>\n",
       "      <th>...</th>\n",
       "      <th>StreamingMovies_Yes</th>\n",
       "      <th>Contract_Month-to-month</th>\n",
       "      <th>Contract_One year</th>\n",
       "      <th>Contract_Two year</th>\n",
       "      <th>PaperlessBilling_No</th>\n",
       "      <th>PaperlessBilling_Yes</th>\n",
       "      <th>PaymentMethod_Bank transfer (automatic)</th>\n",
       "      <th>PaymentMethod_Credit card (automatic)</th>\n",
       "      <th>PaymentMethod_Electronic check</th>\n",
       "      <th>PaymentMethod_Mailed check</th>\n",
       "    </tr>\n",
       "  </thead>\n",
       "  <tbody>\n",
       "    <tr>\n",
       "      <th>0</th>\n",
       "      <td>0</td>\n",
       "      <td>1</td>\n",
       "      <td>29.85</td>\n",
       "      <td>29.85</td>\n",
       "      <td>1</td>\n",
       "      <td>0</td>\n",
       "      <td>0</td>\n",
       "      <td>1</td>\n",
       "      <td>1</td>\n",
       "      <td>0</td>\n",
       "      <td>...</td>\n",
       "      <td>0</td>\n",
       "      <td>1</td>\n",
       "      <td>0</td>\n",
       "      <td>0</td>\n",
       "      <td>0</td>\n",
       "      <td>1</td>\n",
       "      <td>0</td>\n",
       "      <td>0</td>\n",
       "      <td>1</td>\n",
       "      <td>0</td>\n",
       "    </tr>\n",
       "    <tr>\n",
       "      <th>1</th>\n",
       "      <td>0</td>\n",
       "      <td>34</td>\n",
       "      <td>56.95</td>\n",
       "      <td>1889.50</td>\n",
       "      <td>0</td>\n",
       "      <td>1</td>\n",
       "      <td>1</td>\n",
       "      <td>0</td>\n",
       "      <td>1</td>\n",
       "      <td>0</td>\n",
       "      <td>...</td>\n",
       "      <td>0</td>\n",
       "      <td>0</td>\n",
       "      <td>1</td>\n",
       "      <td>0</td>\n",
       "      <td>1</td>\n",
       "      <td>0</td>\n",
       "      <td>0</td>\n",
       "      <td>0</td>\n",
       "      <td>0</td>\n",
       "      <td>1</td>\n",
       "    </tr>\n",
       "    <tr>\n",
       "      <th>2</th>\n",
       "      <td>0</td>\n",
       "      <td>2</td>\n",
       "      <td>53.85</td>\n",
       "      <td>108.15</td>\n",
       "      <td>0</td>\n",
       "      <td>1</td>\n",
       "      <td>1</td>\n",
       "      <td>0</td>\n",
       "      <td>1</td>\n",
       "      <td>0</td>\n",
       "      <td>...</td>\n",
       "      <td>0</td>\n",
       "      <td>1</td>\n",
       "      <td>0</td>\n",
       "      <td>0</td>\n",
       "      <td>0</td>\n",
       "      <td>1</td>\n",
       "      <td>0</td>\n",
       "      <td>0</td>\n",
       "      <td>0</td>\n",
       "      <td>1</td>\n",
       "    </tr>\n",
       "    <tr>\n",
       "      <th>3</th>\n",
       "      <td>0</td>\n",
       "      <td>45</td>\n",
       "      <td>42.30</td>\n",
       "      <td>1840.75</td>\n",
       "      <td>0</td>\n",
       "      <td>1</td>\n",
       "      <td>1</td>\n",
       "      <td>0</td>\n",
       "      <td>1</td>\n",
       "      <td>0</td>\n",
       "      <td>...</td>\n",
       "      <td>0</td>\n",
       "      <td>0</td>\n",
       "      <td>1</td>\n",
       "      <td>0</td>\n",
       "      <td>1</td>\n",
       "      <td>0</td>\n",
       "      <td>1</td>\n",
       "      <td>0</td>\n",
       "      <td>0</td>\n",
       "      <td>0</td>\n",
       "    </tr>\n",
       "    <tr>\n",
       "      <th>4</th>\n",
       "      <td>0</td>\n",
       "      <td>2</td>\n",
       "      <td>70.70</td>\n",
       "      <td>151.65</td>\n",
       "      <td>1</td>\n",
       "      <td>0</td>\n",
       "      <td>1</td>\n",
       "      <td>0</td>\n",
       "      <td>1</td>\n",
       "      <td>0</td>\n",
       "      <td>...</td>\n",
       "      <td>0</td>\n",
       "      <td>1</td>\n",
       "      <td>0</td>\n",
       "      <td>0</td>\n",
       "      <td>0</td>\n",
       "      <td>1</td>\n",
       "      <td>0</td>\n",
       "      <td>0</td>\n",
       "      <td>1</td>\n",
       "      <td>0</td>\n",
       "    </tr>\n",
       "  </tbody>\n",
       "</table>\n",
       "<p>5 rows × 45 columns</p>\n",
       "</div>"
      ],
      "text/plain": [
       "   SeniorCitizen  tenure  MonthlyCharges  TotalCharges  gender_Female  \\\n",
       "0              0       1           29.85         29.85              1   \n",
       "1              0      34           56.95       1889.50              0   \n",
       "2              0       2           53.85        108.15              0   \n",
       "3              0      45           42.30       1840.75              0   \n",
       "4              0       2           70.70        151.65              1   \n",
       "\n",
       "   gender_Male  Partner_No  Partner_Yes  Dependents_No  Dependents_Yes  ...  \\\n",
       "0            0           0            1              1               0  ...   \n",
       "1            1           1            0              1               0  ...   \n",
       "2            1           1            0              1               0  ...   \n",
       "3            1           1            0              1               0  ...   \n",
       "4            0           1            0              1               0  ...   \n",
       "\n",
       "   StreamingMovies_Yes  Contract_Month-to-month  Contract_One year  \\\n",
       "0                    0                        1                  0   \n",
       "1                    0                        0                  1   \n",
       "2                    0                        1                  0   \n",
       "3                    0                        0                  1   \n",
       "4                    0                        1                  0   \n",
       "\n",
       "   Contract_Two year  PaperlessBilling_No  PaperlessBilling_Yes  \\\n",
       "0                  0                    0                     1   \n",
       "1                  0                    1                     0   \n",
       "2                  0                    0                     1   \n",
       "3                  0                    1                     0   \n",
       "4                  0                    0                     1   \n",
       "\n",
       "   PaymentMethod_Bank transfer (automatic)  \\\n",
       "0                                        0   \n",
       "1                                        0   \n",
       "2                                        0   \n",
       "3                                        1   \n",
       "4                                        0   \n",
       "\n",
       "   PaymentMethod_Credit card (automatic)  PaymentMethod_Electronic check  \\\n",
       "0                                      0                               1   \n",
       "1                                      0                               0   \n",
       "2                                      0                               0   \n",
       "3                                      0                               0   \n",
       "4                                      0                               1   \n",
       "\n",
       "   PaymentMethod_Mailed check  \n",
       "0                           0  \n",
       "1                           1  \n",
       "2                           1  \n",
       "3                           0  \n",
       "4                           0  \n",
       "\n",
       "[5 rows x 45 columns]"
      ]
     },
     "execution_count": 5,
     "metadata": {},
     "output_type": "execute_result"
    }
   ],
   "source": [
    "#Dummification of the categorical features\n",
    "data_dums = p.get_dummies(data.loc[:,\"gender\":\"TotalCharges\"])\n",
    "data_dums.head()"
   ]
  },
  {
   "cell_type": "markdown",
   "metadata": {},
   "source": [
    "### 1.3 Creation of new feature"
   ]
  },
  {
   "cell_type": "code",
   "execution_count": 46,
   "metadata": {},
   "outputs": [
    {
     "data": {
      "text/html": [
       "<div>\n",
       "<style scoped>\n",
       "    .dataframe tbody tr th:only-of-type {\n",
       "        vertical-align: middle;\n",
       "    }\n",
       "\n",
       "    .dataframe tbody tr th {\n",
       "        vertical-align: top;\n",
       "    }\n",
       "\n",
       "    .dataframe thead th {\n",
       "        text-align: right;\n",
       "    }\n",
       "</style>\n",
       "<table border=\"1\" class=\"dataframe\">\n",
       "  <thead>\n",
       "    <tr style=\"text-align: right;\">\n",
       "      <th>StreamingMovies</th>\n",
       "      <th>No</th>\n",
       "      <th>No internet service</th>\n",
       "      <th>Yes</th>\n",
       "    </tr>\n",
       "    <tr>\n",
       "      <th>StreamingTV</th>\n",
       "      <th></th>\n",
       "      <th></th>\n",
       "      <th></th>\n",
       "    </tr>\n",
       "  </thead>\n",
       "  <tbody>\n",
       "    <tr>\n",
       "      <th>No</th>\n",
       "      <td>2018</td>\n",
       "      <td>0</td>\n",
       "      <td>792</td>\n",
       "    </tr>\n",
       "    <tr>\n",
       "      <th>No internet service</th>\n",
       "      <td>0</td>\n",
       "      <td>1526</td>\n",
       "      <td>0</td>\n",
       "    </tr>\n",
       "    <tr>\n",
       "      <th>Yes</th>\n",
       "      <td>767</td>\n",
       "      <td>0</td>\n",
       "      <td>1940</td>\n",
       "    </tr>\n",
       "  </tbody>\n",
       "</table>\n",
       "</div>"
      ],
      "text/plain": [
       "StreamingMovies        No  No internet service   Yes\n",
       "StreamingTV                                         \n",
       "No                   2018                    0   792\n",
       "No internet service     0                 1526     0\n",
       "Yes                   767                    0  1940"
      ]
     },
     "execution_count": 46,
     "metadata": {},
     "output_type": "execute_result"
    }
   ],
   "source": [
    "# Comparison between streaming features\n",
    "p.crosstab(data[\"StreamingTV\"],data[\"StreamingMovies\"])"
   ]
  },
  {
   "cell_type": "code",
   "execution_count": 6,
   "metadata": {},
   "outputs": [],
   "source": [
    "#Creation of feature for Streaming both TV and Movies\n",
    "Streaming = []\n",
    "for i in range(0,len(data)):\n",
    "    if data.loc[i,\"StreamingTV\"]==\"Yes\" and data.loc[i, \"StreamingMovies\"]==\"Yes\":\n",
    "        Streaming.append(\"TV & Movies\")\n",
    "    elif data.loc[i,\"StreamingTV\"]==\"No\" and data.loc[i, \"StreamingMovies\"]==\"No\":\n",
    "        Streaming.append(\"None\")\n",
    "    elif data.loc[i,\"StreamingTV\"]==\"Yes\" and data.loc[i, \"StreamingMovies\"]==\"No\":\n",
    "        Streaming.append(\"TV\")\n",
    "    elif data.loc[i,\"StreamingTV\"]==\"No\" and data.loc[i, \"StreamingMovies\"]==\"Yes\":\n",
    "        Streaming.append(\"Movies\")\n",
    "    else:\n",
    "        Streaming.append(\"No internet service\")\n",
    "data[\"Streaming\"] = Streaming\n"
   ]
  },
  {
   "cell_type": "code",
   "execution_count": 7,
   "metadata": {},
   "outputs": [
    {
     "data": {
      "text/html": [
       "<div>\n",
       "<style scoped>\n",
       "    .dataframe tbody tr th:only-of-type {\n",
       "        vertical-align: middle;\n",
       "    }\n",
       "\n",
       "    .dataframe tbody tr th {\n",
       "        vertical-align: top;\n",
       "    }\n",
       "\n",
       "    .dataframe thead th {\n",
       "        text-align: right;\n",
       "    }\n",
       "</style>\n",
       "<table border=\"1\" class=\"dataframe\">\n",
       "  <thead>\n",
       "    <tr style=\"text-align: right;\">\n",
       "      <th></th>\n",
       "      <th>SeniorCitizen</th>\n",
       "      <th>tenure</th>\n",
       "      <th>MonthlyCharges</th>\n",
       "      <th>gender_Female</th>\n",
       "      <th>gender_Male</th>\n",
       "      <th>Partner_No</th>\n",
       "      <th>Partner_Yes</th>\n",
       "      <th>Dependents_No</th>\n",
       "      <th>Dependents_Yes</th>\n",
       "      <th>PhoneService_No</th>\n",
       "      <th>...</th>\n",
       "      <th>PaperlessBilling_Yes</th>\n",
       "      <th>PaymentMethod_Bank transfer (automatic)</th>\n",
       "      <th>PaymentMethod_Credit card (automatic)</th>\n",
       "      <th>PaymentMethod_Electronic check</th>\n",
       "      <th>PaymentMethod_Mailed check</th>\n",
       "      <th>Streaming_Movies</th>\n",
       "      <th>Streaming_No internet service</th>\n",
       "      <th>Streaming_None</th>\n",
       "      <th>Streaming_TV</th>\n",
       "      <th>Streaming_TV &amp; Movies</th>\n",
       "    </tr>\n",
       "  </thead>\n",
       "  <tbody>\n",
       "    <tr>\n",
       "      <th>0</th>\n",
       "      <td>0</td>\n",
       "      <td>1</td>\n",
       "      <td>29.85</td>\n",
       "      <td>1</td>\n",
       "      <td>0</td>\n",
       "      <td>0</td>\n",
       "      <td>1</td>\n",
       "      <td>1</td>\n",
       "      <td>0</td>\n",
       "      <td>1</td>\n",
       "      <td>...</td>\n",
       "      <td>1</td>\n",
       "      <td>0</td>\n",
       "      <td>0</td>\n",
       "      <td>1</td>\n",
       "      <td>0</td>\n",
       "      <td>0</td>\n",
       "      <td>0</td>\n",
       "      <td>1</td>\n",
       "      <td>0</td>\n",
       "      <td>0</td>\n",
       "    </tr>\n",
       "    <tr>\n",
       "      <th>1</th>\n",
       "      <td>0</td>\n",
       "      <td>34</td>\n",
       "      <td>56.95</td>\n",
       "      <td>0</td>\n",
       "      <td>1</td>\n",
       "      <td>1</td>\n",
       "      <td>0</td>\n",
       "      <td>1</td>\n",
       "      <td>0</td>\n",
       "      <td>0</td>\n",
       "      <td>...</td>\n",
       "      <td>0</td>\n",
       "      <td>0</td>\n",
       "      <td>0</td>\n",
       "      <td>0</td>\n",
       "      <td>1</td>\n",
       "      <td>0</td>\n",
       "      <td>0</td>\n",
       "      <td>1</td>\n",
       "      <td>0</td>\n",
       "      <td>0</td>\n",
       "    </tr>\n",
       "    <tr>\n",
       "      <th>2</th>\n",
       "      <td>0</td>\n",
       "      <td>2</td>\n",
       "      <td>53.85</td>\n",
       "      <td>0</td>\n",
       "      <td>1</td>\n",
       "      <td>1</td>\n",
       "      <td>0</td>\n",
       "      <td>1</td>\n",
       "      <td>0</td>\n",
       "      <td>0</td>\n",
       "      <td>...</td>\n",
       "      <td>1</td>\n",
       "      <td>0</td>\n",
       "      <td>0</td>\n",
       "      <td>0</td>\n",
       "      <td>1</td>\n",
       "      <td>0</td>\n",
       "      <td>0</td>\n",
       "      <td>1</td>\n",
       "      <td>0</td>\n",
       "      <td>0</td>\n",
       "    </tr>\n",
       "    <tr>\n",
       "      <th>3</th>\n",
       "      <td>0</td>\n",
       "      <td>45</td>\n",
       "      <td>42.30</td>\n",
       "      <td>0</td>\n",
       "      <td>1</td>\n",
       "      <td>1</td>\n",
       "      <td>0</td>\n",
       "      <td>1</td>\n",
       "      <td>0</td>\n",
       "      <td>1</td>\n",
       "      <td>...</td>\n",
       "      <td>0</td>\n",
       "      <td>1</td>\n",
       "      <td>0</td>\n",
       "      <td>0</td>\n",
       "      <td>0</td>\n",
       "      <td>0</td>\n",
       "      <td>0</td>\n",
       "      <td>1</td>\n",
       "      <td>0</td>\n",
       "      <td>0</td>\n",
       "    </tr>\n",
       "    <tr>\n",
       "      <th>4</th>\n",
       "      <td>0</td>\n",
       "      <td>2</td>\n",
       "      <td>70.70</td>\n",
       "      <td>1</td>\n",
       "      <td>0</td>\n",
       "      <td>1</td>\n",
       "      <td>0</td>\n",
       "      <td>1</td>\n",
       "      <td>0</td>\n",
       "      <td>0</td>\n",
       "      <td>...</td>\n",
       "      <td>1</td>\n",
       "      <td>0</td>\n",
       "      <td>0</td>\n",
       "      <td>1</td>\n",
       "      <td>0</td>\n",
       "      <td>0</td>\n",
       "      <td>0</td>\n",
       "      <td>1</td>\n",
       "      <td>0</td>\n",
       "      <td>0</td>\n",
       "    </tr>\n",
       "  </tbody>\n",
       "</table>\n",
       "<p>5 rows × 43 columns</p>\n",
       "</div>"
      ],
      "text/plain": [
       "   SeniorCitizen  tenure  MonthlyCharges  gender_Female  gender_Male  \\\n",
       "0              0       1           29.85              1            0   \n",
       "1              0      34           56.95              0            1   \n",
       "2              0       2           53.85              0            1   \n",
       "3              0      45           42.30              0            1   \n",
       "4              0       2           70.70              1            0   \n",
       "\n",
       "   Partner_No  Partner_Yes  Dependents_No  Dependents_Yes  PhoneService_No  \\\n",
       "0           0            1              1               0                1   \n",
       "1           1            0              1               0                0   \n",
       "2           1            0              1               0                0   \n",
       "3           1            0              1               0                1   \n",
       "4           1            0              1               0                0   \n",
       "\n",
       "   ...  PaperlessBilling_Yes  PaymentMethod_Bank transfer (automatic)  \\\n",
       "0  ...                     1                                        0   \n",
       "1  ...                     0                                        0   \n",
       "2  ...                     1                                        0   \n",
       "3  ...                     0                                        1   \n",
       "4  ...                     1                                        0   \n",
       "\n",
       "   PaymentMethod_Credit card (automatic)  PaymentMethod_Electronic check  \\\n",
       "0                                      0                               1   \n",
       "1                                      0                               0   \n",
       "2                                      0                               0   \n",
       "3                                      0                               0   \n",
       "4                                      0                               1   \n",
       "\n",
       "   PaymentMethod_Mailed check  Streaming_Movies  \\\n",
       "0                           0                 0   \n",
       "1                           1                 0   \n",
       "2                           1                 0   \n",
       "3                           0                 0   \n",
       "4                           0                 0   \n",
       "\n",
       "   Streaming_No internet service  Streaming_None  Streaming_TV  \\\n",
       "0                              0               1             0   \n",
       "1                              0               1             0   \n",
       "2                              0               1             0   \n",
       "3                              0               1             0   \n",
       "4                              0               1             0   \n",
       "\n",
       "   Streaming_TV & Movies  \n",
       "0                      0  \n",
       "1                      0  \n",
       "2                      0  \n",
       "3                      0  \n",
       "4                      0  \n",
       "\n",
       "[5 rows x 43 columns]"
      ]
     },
     "execution_count": 7,
     "metadata": {},
     "output_type": "execute_result"
    }
   ],
   "source": [
    "#Adding dummy variables to the previous dummified data\n",
    "data2 = p.DataFrame(data.drop([\"TotalCharges\",\"StreamingTV\",\"StreamingMovies\",\"Churn\",\"customerID\"],axis=1))\n",
    "data_dum = p.get_dummies(data2.loc[:,\"gender\":\"Streaming\"])\n",
    "data_dum.head()"
   ]
  },
  {
   "cell_type": "markdown",
   "metadata": {},
   "source": [
    "### 1.4 Handling outliers"
   ]
  },
  {
   "cell_type": "code",
   "execution_count": 45,
   "metadata": {},
   "outputs": [
    {
     "data": {
      "image/png": "[encoded data removed]",
      "text/plain": [
       "<Figure size 720x1440 with 1 Axes>"
      ]
     },
     "metadata": {
      "needs_background": "light"
     },
     "output_type": "display_data"
    }
   ],
   "source": [
    "#Checking outliers\n",
    "data_bp = data_dums.loc[:,\"tenure\":\"TotalCharges\"].select_dtypes(exclude=['object']).copy()\n",
    "data_scaled = scale(data_bp )\n",
    "\n",
    "# Create a figure instance\n",
    "fig = plt.figure(1, figsize=(10, 20))\n",
    "\n",
    "# Create an axes instance\n",
    "ax = fig.add_subplot(111)\n",
    "\n",
    "# Create the boxplot\n",
    "bxlabs=list(data_bp)\n",
    "\n",
    "# Create the boxplot\n",
    "bp = ax.boxplot(data_scaled,labels=bxlabs,showfliers=True,vert=True)\n",
    "plt.show()"
   ]
  },
  {
   "cell_type": "markdown",
   "metadata": {},
   "source": [
    "# Prediction analysis"
   ]
  },
  {
   "cell_type": "code",
   "execution_count": 8,
   "metadata": {},
   "outputs": [],
   "source": [
    "#Selection of features \n",
    "features_X = list(data_dum)\n",
    "\n",
    "# Predictors\n",
    "data_X = data_dum\n",
    "\n",
    "#Selection of target\n",
    "data_Y = data[\"Churn\"].replace(\"Yes\",1).replace(\"No\",0)\n"
   ]
  },
  {
   "cell_type": "code",
   "execution_count": 9,
   "metadata": {},
   "outputs": [],
   "source": [
    "#Correction for class imbalance\n",
    "sm = SMOTE(random_state=2) #set state so that we have the same generated data everytime\n",
    "x_data_res, y_data_res = sm.fit_sample(data_X, data_Y)\n",
    "\n",
    "#Splitting into train and test set\n",
    "train_X, test_X, train_y, test_y = train_test_split(x_data_res, y_data_res, test_size=0.2, random_state=12)"
   ]
  },
  {
   "cell_type": "markdown",
   "metadata": {},
   "source": [
    "## Full Random forest classifier"
   ]
  },
  {
   "cell_type": "code",
   "execution_count": 33,
   "metadata": {},
   "outputs": [
    {
     "name": "stdout",
     "output_type": "stream",
     "text": [
      "AUC:  0.8550398735407105\n"
     ]
    }
   ],
   "source": [
    "############################# FULL RANDOM FOREST CLASSIFIER #####################################################\n",
    "#Searching for optimal hyperparameters via grid search (Hyperparameter tuning)\n",
    "full_RF = RandomForestClassifier(random_state=0)\n",
    "\n",
    "param_grid_RF = {'n_estimators': [20, 50, 70, 100],'max_depth': [5, 7, 10, 15], 'min_samples_leaf':[5, 10, 15]}\n",
    "grid_full_RF = GridSearchCV(full_RF, param_grid_RF, cv=10)\n",
    "grid_full_RF.fit(train_X, train_y)\n",
    "\n",
    "# Initialising calibration method with 10-fold cross-validation\n",
    "full_RF_cal = RandomForestClassifier(random_state=0, max_depth=grid_full_RF.best_params_['max_depth'], \n",
    "                                   n_estimators=grid_full_RF.best_params_['n_estimators'],\n",
    "                                  min_samples_leaf=grid_full_RF.best_params_['min_samples_leaf'])\n",
    "cal_full_RF = CalibratedClassifierCV(full_RF_cal, cv=10, method='isotonic')\n",
    "\n",
    "# Calibrate probabilities\n",
    "cal_full_RF.fit(train_X, train_y)\n",
    "\n",
    "#Generalisation performance of the reduced model\n",
    "print(\"AUC: \",roc_auc_score(test_y, cal_full_RF.predict(test_X)))"
   ]
  },
  {
   "cell_type": "code",
   "execution_count": 34,
   "metadata": {},
   "outputs": [
    {
     "name": "stdout",
     "output_type": "stream",
     "text": [
      "              precision    recall  f1-score   support\n",
      "\n",
      "           0       0.86      0.86      0.86      1064\n",
      "           1       0.85      0.85      0.85      1006\n",
      "\n",
      "   micro avg       0.86      0.86      0.86      2070\n",
      "   macro avg       0.85      0.86      0.85      2070\n",
      "weighted avg       0.86      0.86      0.86      2070\n",
      "\n"
     ]
    }
   ],
   "source": [
    "#Preceision and recall for random forest\n",
    "print(classification_report(test_y, cal_full_RF.predict(test_X)))"
   ]
  },
  {
   "cell_type": "markdown",
   "metadata": {},
   "source": [
    "## Full Gradient boost classifier"
   ]
  },
  {
   "cell_type": "code",
   "execution_count": 68,
   "metadata": {},
   "outputs": [
    {
     "name": "stderr",
     "output_type": "stream",
     "text": [
      "C:\\Users\\eugen\\Anaconda3\\lib\\site-packages\\ipykernel\\ipkernel.py:287: DeprecationWarning:\n",
      "\n",
      "`should_run_async` will not call `transform_cell` automatically in the future. Please pass the result to `transformed_cell` argument and any exception that happen during thetransform in `preprocessing_exc_tuple` in IPython 7.17 and above.\n",
      "\n"
     ]
    },
    {
     "name": "stdout",
     "output_type": "stream",
     "text": [
      "AUC:  0.8627034783778531\n"
     ]
    }
   ],
   "source": [
    "############################## FULL GRADIENT BOOST CLASSIFIER ###################################\n",
    "full_GB = GradientBoostingClassifier(random_state=0)\n",
    "param_grid_GB = {'learning_rate' : [0.001, 0.01, 0.1]}\n",
    "grid_full_GB = GridSearchCV(full_GB, param_grid_GB, cv=10)\n",
    "grid_full_GB.fit(train_X, train_y)\n",
    "\n",
    "# Initialising calibration method with 10-fold cross-validation\n",
    "full_GB = GradientBoostingClassifier(random_state=0, learning_rate=grid_full_GB.best_params_['learning_rate'])\n",
    "\n",
    "# Calibrate probabilities\n",
    "cal_full_GB = CalibratedClassifierCV(full_GB, cv=10, method='isotonic')\n",
    "cal_full_GB.fit(train_X, train_y)\n",
    "\n",
    "#Generalisation performance of the full model\n",
    "print(\"AUC: \",roc_auc_score(test_y, cal_full_GB.predict(test_X)))"
   ]
  },
  {
   "cell_type": "code",
   "execution_count": 35,
   "metadata": {},
   "outputs": [
    {
     "name": "stdout",
     "output_type": "stream",
     "text": [
      "              precision    recall  f1-score   support\n",
      "\n",
      "           0       0.86      0.88      0.87      1064\n",
      "           1       0.87      0.84      0.86      1006\n",
      "\n",
      "   micro avg       0.86      0.86      0.86      2070\n",
      "   macro avg       0.86      0.86      0.86      2070\n",
      "weighted avg       0.86      0.86      0.86      2070\n",
      "\n"
     ]
    }
   ],
   "source": [
    "#Preceision and recall for gradient boost classifier\n",
    "print(classification_report(test_y, cal_full_GB.predict(test_X)))"
   ]
  },
  {
   "cell_type": "markdown",
   "metadata": {},
   "source": [
    "## Full logistic regression model"
   ]
  },
  {
   "cell_type": "code",
   "execution_count": 37,
   "metadata": {},
   "outputs": [
    {
     "name": "stdout",
     "output_type": "stream",
     "text": [
      "AUC:  0.7664511053976891\n"
     ]
    }
   ],
   "source": [
    "############################# FULL LOGISTIC REGRESSION ######################################\n",
    "#Searching for optimal hyperparameters via grid search (Hyperparameter tuning)\n",
    "full_log = LogisticRegression(random_state=0)\n",
    "\n",
    "param_grid_log = {'solver': ['newton-cg', 'lbfgs', 'liblinear'],\n",
    "                 'C':[0.001, 0.005, 0.01, 0.08, 0.1, 0.8, 1]}\n",
    "grid_full_log = GridSearchCV(full_log, param_grid_log, cv=10)\n",
    "grid_full_log.fit(train_X, train_y)\n",
    "\n",
    "# Initialising calibration method with 10-fold cross-validation\n",
    "full_log = LogisticRegression(random_state=0, solver=grid_full_log.best_params_['solver'], C=grid_full_log.best_params_['C'])\n",
    "cal_full_log = CalibratedClassifierCV(full_log, cv=10, method='sigmoid')\n",
    "\n",
    "# Calibrate probabilities\n",
    "cal_full_log.fit(train_X, train_y)\n",
    "\n",
    "#Generalisation performance of the reduced model\n",
    "print(\"AUC: \",roc_auc_score(test_y, cal_full_log.predict(test_X)))"
   ]
  },
  {
   "cell_type": "code",
   "execution_count": 38,
   "metadata": {},
   "outputs": [
    {
     "name": "stdout",
     "output_type": "stream",
     "text": [
      "              precision    recall  f1-score   support\n",
      "\n",
      "           0       0.79      0.74      0.76      1064\n",
      "           1       0.74      0.79      0.77      1006\n",
      "\n",
      "   micro avg       0.77      0.77      0.77      2070\n",
      "   macro avg       0.77      0.77      0.77      2070\n",
      "weighted avg       0.77      0.77      0.77      2070\n",
      "\n"
     ]
    }
   ],
   "source": [
    "#Preceision and recall for random forest\n",
    "print(classification_report(test_y, cal_full_log.predict(test_X)))"
   ]
  },
  {
   "cell_type": "markdown",
   "metadata": {},
   "source": [
    "## Full K-nearest neighbour classifier"
   ]
  },
  {
   "cell_type": "code",
   "execution_count": 14,
   "metadata": {},
   "outputs": [
    {
     "name": "stderr",
     "output_type": "stream",
     "text": [
      "C:\\Users\\eugen\\Anaconda3\\lib\\site-packages\\ipykernel\\ipkernel.py:287: DeprecationWarning:\n",
      "\n",
      "`should_run_async` will not call `transform_cell` automatically in the future. Please pass the result to `transformed_cell` argument and any exception that happen during thetransform in `preprocessing_exc_tuple` in IPython 7.17 and above.\n",
      "\n"
     ]
    },
    {
     "name": "stdout",
     "output_type": "stream",
     "text": [
      "AUC:  0.8690012182543834\n"
     ]
    }
   ],
   "source": [
    "############################## FULL K-NEAREST NEIGHBOUR CLASSIFIER ########################################\n",
    "# Initialising the K-nearest neighbor classifier\n",
    "full_KNN =  KNeighborsClassifier()\n",
    "\n",
    "#Hyper-parameter tunning\n",
    "param_grid_KNN = {\"n_neighbors\":[3,5,7], \"weights\":[\"uniform\", \"distance\"], \n",
    "                  \"algorithm\":[\"auto\", \"ball_tree\",]}\n",
    "grid_full_KNN = GridSearchCV(full_KNN, param_grid_KNN,cv=10)\n",
    "grid_full_KNN.fit(train_X, train_y)\n",
    "\n",
    "#Initialising calibration method with 10-fold CV\n",
    "full_KNN = KNeighborsClassifier(n_neighbors=grid_full_KNN.best_params_['n_neighbors'],\n",
    "                             weights=grid_full_KNN.best_params_['weights'],\n",
    "                             algorithm=grid_full_KNN.best_params_['algorithm'])\n",
    "\n",
    "#Calibrate probabilities\n",
    "cal_full_KNN = CalibratedClassifierCV(full_KNN, cv=10, method='isotonic')\n",
    "cal_full_KNN.fit(train_X,train_y)\n",
    "\n",
    "#Generalisation performance of the model\n",
    "print(\"AUC: \",roc_auc_score(test_y, cal_full_KNN.predict(test_X)))"
   ]
  },
  {
   "cell_type": "code",
   "execution_count": 39,
   "metadata": {},
   "outputs": [
    {
     "name": "stdout",
     "output_type": "stream",
     "text": [
      "              precision    recall  f1-score   support\n",
      "\n",
      "           0       0.90      0.84      0.87      1064\n",
      "           1       0.84      0.90      0.87      1006\n",
      "\n",
      "   micro avg       0.87      0.87      0.87      2070\n",
      "   macro avg       0.87      0.87      0.87      2070\n",
      "weighted avg       0.87      0.87      0.87      2070\n",
      "\n"
     ]
    }
   ],
   "source": [
    "#Preceision and recall for random forest\n",
    "print(classification_report(test_y, cal_full_KNN.predict(test_X)))"
   ]
  },
  {
   "cell_type": "markdown",
   "metadata": {},
   "source": [
    "## Full SVM classifier"
   ]
  },
  {
   "cell_type": "code",
   "execution_count": 22,
   "metadata": {},
   "outputs": [
    {
     "name": "stderr",
     "output_type": "stream",
     "text": [
      "C:\\Users\\eugen\\Anaconda3\\lib\\site-packages\\ipykernel\\ipkernel.py:287: DeprecationWarning:\n",
      "\n",
      "`should_run_async` will not call `transform_cell` automatically in the future. Please pass the result to `transformed_cell` argument and any exception that happen during thetransform in `preprocessing_exc_tuple` in IPython 7.17 and above.\n",
      "\n"
     ]
    },
    {
     "name": "stdout",
     "output_type": "stream",
     "text": [
      "AUC:  0.7659269944244309\n"
     ]
    }
   ],
   "source": [
    "############################# FULL SUPPORT VECTOR MACHINE CLASSIFIER #####################################\n",
    "# Initialising the SVM \n",
    "full_SVM = LinearSVC()\n",
    "\n",
    "#Hyper-parameter tunning\n",
    "param_grid_SVM = {\"tol\":[math.pow(10,-2),math.pow(10,-4),math.pow(10,-6),math.pow(10,-9)],\n",
    "                 \"C\":[0.001, 0.05, 0.5, 1]}\n",
    "grid_full_SVM = GridSearchCV(full_SVM, param_grid_SVM,cv=10)\n",
    "grid_full_SVM.fit(train_X, train_y)\n",
    "\n",
    "#Initialising calibration method with 10-fold CV\n",
    "full_SVM = LinearSVC(tol=grid_full_SVM.best_params_[\"tol\"],\n",
    "                             C=grid_full_SVM.best_params_[\"C\"])\n",
    "\n",
    "#Calibrate probabilities\n",
    "cal_full_SVM = CalibratedClassifierCV(full_SVM, cv=10, method='sigmoid')\n",
    "cal_full_SVM.fit(train_X,train_y)\n",
    "\n",
    "#Generalisation performance of the model\n",
    "print(\"AUC: \",roc_auc_score(test_y, cal_full_SVM.predict(test_X)))"
   ]
  },
  {
   "cell_type": "code",
   "execution_count": 41,
   "metadata": {},
   "outputs": [
    {
     "name": "stdout",
     "output_type": "stream",
     "text": [
      "              precision    recall  f1-score   support\n",
      "\n",
      "           0       0.79      0.74      0.76      1064\n",
      "           1       0.74      0.79      0.77      1006\n",
      "\n",
      "   micro avg       0.77      0.77      0.77      2070\n",
      "   macro avg       0.77      0.77      0.77      2070\n",
      "weighted avg       0.77      0.77      0.77      2070\n",
      "\n"
     ]
    }
   ],
   "source": [
    "#Preceision and recall for random forest\n",
    "print(classification_report(test_y, cal_full_SVM.predict(test_X)))"
   ]
  },
  {
   "cell_type": "code",
   "execution_count": 42,
   "metadata": {},
   "outputs": [],
   "source": [
    "from sklearn.metrics import recall_score"
   ]
  },
  {
   "cell_type": "code",
   "execution_count": 44,
   "metadata": {},
   "outputs": [
    {
     "name": "stdout",
     "output_type": "stream",
     "text": [
      "Sensitivity:  0.7912524850894632\n",
      "Specificity:  0.7406015037593985\n"
     ]
    }
   ],
   "source": [
    "print(\"Sensitivity: \",recall_score(test_y, cal_full_SVM.predict(test_X)))\n",
    "print(\"Specificity: \", recall_score(test_y, cal_full_SVM.predict(test_X),pos_label=0))"
   ]
  },
  {
   "cell_type": "markdown",
   "metadata": {},
   "source": [
    "## Summary of all results"
   ]
  },
  {
   "cell_type": "code",
   "execution_count": 53,
   "metadata": {},
   "outputs": [
    {
     "data": {
      "text/html": [
       "<div>\n",
       "<style scoped>\n",
       "    .dataframe tbody tr th:only-of-type {\n",
       "        vertical-align: middle;\n",
       "    }\n",
       "\n",
       "    .dataframe tbody tr th {\n",
       "        vertical-align: top;\n",
       "    }\n",
       "\n",
       "    .dataframe thead th {\n",
       "        text-align: right;\n",
       "    }\n",
       "</style>\n",
       "<table border=\"1\" class=\"dataframe\">\n",
       "  <thead>\n",
       "    <tr style=\"text-align: right;\">\n",
       "      <th></th>\n",
       "      <th>Accuracy</th>\n",
       "      <th>Sensitivity</th>\n",
       "      <th>Specificity</th>\n",
       "      <th>Algorithms</th>\n",
       "    </tr>\n",
       "  </thead>\n",
       "  <tbody>\n",
       "    <tr>\n",
       "      <th>0</th>\n",
       "      <td>0.855040</td>\n",
       "      <td>0.853877</td>\n",
       "      <td>0.856203</td>\n",
       "      <td>Random forest</td>\n",
       "    </tr>\n",
       "    <tr>\n",
       "      <th>1</th>\n",
       "      <td>0.862703</td>\n",
       "      <td>0.841948</td>\n",
       "      <td>0.883459</td>\n",
       "      <td>Gradient boost</td>\n",
       "    </tr>\n",
       "    <tr>\n",
       "      <th>2</th>\n",
       "      <td>0.869001</td>\n",
       "      <td>0.900596</td>\n",
       "      <td>0.837406</td>\n",
       "      <td>K-Nearest neighbour</td>\n",
       "    </tr>\n",
       "    <tr>\n",
       "      <th>3</th>\n",
       "      <td>0.766451</td>\n",
       "      <td>0.793241</td>\n",
       "      <td>0.739662</td>\n",
       "      <td>Logistic regression</td>\n",
       "    </tr>\n",
       "    <tr>\n",
       "      <th>4</th>\n",
       "      <td>0.765927</td>\n",
       "      <td>0.791252</td>\n",
       "      <td>0.740602</td>\n",
       "      <td>Support vector machine</td>\n",
       "    </tr>\n",
       "  </tbody>\n",
       "</table>\n",
       "</div>"
      ],
      "text/plain": [
       "   Accuracy  Sensitivity  Specificity              Algorithms\n",
       "0  0.855040     0.853877     0.856203           Random forest\n",
       "1  0.862703     0.841948     0.883459          Gradient boost\n",
       "2  0.869001     0.900596     0.837406     K-Nearest neighbour\n",
       "3  0.766451     0.793241     0.739662     Logistic regression\n",
       "4  0.765927     0.791252     0.740602  Support vector machine"
      ]
     },
     "execution_count": 53,
     "metadata": {},
     "output_type": "execute_result"
    }
   ],
   "source": [
    "metrics_df = p.DataFrame({\"Accuracy\":[roc_auc_score(test_y, cal_full_RF.predict(test_X)),\n",
    "                                      roc_auc_score(test_y, cal_full_GB.predict(test_X)),\n",
    "                                     roc_auc_score(test_y, cal_full_KNN.predict(test_X)),\n",
    "                                     roc_auc_score(test_y, cal_full_log.predict(test_X)),\n",
    "                                     roc_auc_score(test_y, cal_full_SVM.predict(test_X))],\n",
    "                         \"Sensitivity\":[recall_score(test_y, cal_full_RF.predict(test_X)),\n",
    "                                       recall_score(test_y, cal_full_GB.predict(test_X)),\n",
    "                                       recall_score(test_y, cal_full_KNN.predict(test_X)),\n",
    "                                       recall_score(test_y, cal_full_log.predict(test_X)),\n",
    "                                       recall_score(test_y, cal_full_SVM.predict(test_X))],\n",
    "                         \"Specificity\":[recall_score(test_y, cal_full_RF.predict(test_X),pos_label=0),\n",
    "                                       recall_score(test_y, cal_full_GB.predict(test_X),pos_label=0),\n",
    "                                       recall_score(test_y, cal_full_KNN.predict(test_X),pos_label=0),\n",
    "                                       recall_score(test_y, cal_full_log.predict(test_X),pos_label=0),\n",
    "                                       recall_score(test_y, cal_full_SVM.predict(test_X),pos_label=0)],\n",
    "                         \"Algorithms\":[\"Random forest\", \n",
    "                                      \"Gradient boost\",\n",
    "                                      \"K-Nearest neighbour\",\n",
    "                                      \"Logistic regression\",\n",
    "                                      \"Support vector machine\"]})\n",
    "metrics_df.head()"
   ]
  },
  {
   "cell_type": "code",
   "execution_count": 68,
   "metadata": {},
   "outputs": [],
   "source": [
    "#metrics_df.set_index(\"Algorithms\", inplace=True)\n",
    "#metrics_df\n",
    "metrics_df.to_csv(\"C:/Users/eugen/Desktop/Work/Merkle/model_evals.csv\")"
   ]
  },
  {
   "cell_type": "code",
   "execution_count": 5,
   "metadata": {},
   "outputs": [
    {
     "data": {
      "text/html": [
       "<div>\n",
       "<style scoped>\n",
       "    .dataframe tbody tr th:only-of-type {\n",
       "        vertical-align: middle;\n",
       "    }\n",
       "\n",
       "    .dataframe tbody tr th {\n",
       "        vertical-align: top;\n",
       "    }\n",
       "\n",
       "    .dataframe thead th {\n",
       "        text-align: right;\n",
       "    }\n",
       "</style>\n",
       "<table border=\"1\" class=\"dataframe\">\n",
       "  <thead>\n",
       "    <tr style=\"text-align: right;\">\n",
       "      <th></th>\n",
       "      <th>Unnamed: 0</th>\n",
       "      <th>Accuracy</th>\n",
       "      <th>Sensitivity</th>\n",
       "      <th>Specificity</th>\n",
       "      <th>Algorithms</th>\n",
       "    </tr>\n",
       "  </thead>\n",
       "  <tbody>\n",
       "    <tr>\n",
       "      <th>0</th>\n",
       "      <td>0</td>\n",
       "      <td>0.855040</td>\n",
       "      <td>0.853877</td>\n",
       "      <td>0.856203</td>\n",
       "      <td>Random forest</td>\n",
       "    </tr>\n",
       "    <tr>\n",
       "      <th>1</th>\n",
       "      <td>1</td>\n",
       "      <td>0.862703</td>\n",
       "      <td>0.841948</td>\n",
       "      <td>0.883459</td>\n",
       "      <td>Gradient boost</td>\n",
       "    </tr>\n",
       "    <tr>\n",
       "      <th>2</th>\n",
       "      <td>2</td>\n",
       "      <td>0.869001</td>\n",
       "      <td>0.900596</td>\n",
       "      <td>0.837406</td>\n",
       "      <td>K-Nearest neighbour</td>\n",
       "    </tr>\n",
       "    <tr>\n",
       "      <th>3</th>\n",
       "      <td>3</td>\n",
       "      <td>0.766451</td>\n",
       "      <td>0.793241</td>\n",
       "      <td>0.739662</td>\n",
       "      <td>Logistic regression</td>\n",
       "    </tr>\n",
       "    <tr>\n",
       "      <th>4</th>\n",
       "      <td>4</td>\n",
       "      <td>0.765927</td>\n",
       "      <td>0.791252</td>\n",
       "      <td>0.740602</td>\n",
       "      <td>Support vector machine</td>\n",
       "    </tr>\n",
       "  </tbody>\n",
       "</table>\n",
       "</div>"
      ],
      "text/plain": [
       "   Unnamed: 0  Accuracy  Sensitivity  Specificity              Algorithms\n",
       "0           0  0.855040     0.853877     0.856203           Random forest\n",
       "1           1  0.862703     0.841948     0.883459          Gradient boost\n",
       "2           2  0.869001     0.900596     0.837406     K-Nearest neighbour\n",
       "3           3  0.766451     0.793241     0.739662     Logistic regression\n",
       "4           4  0.765927     0.791252     0.740602  Support vector machine"
      ]
     },
     "execution_count": 5,
     "metadata": {},
     "output_type": "execute_result"
    }
   ],
   "source": [
    "metrics_df = p.read_csv(\"C:/Users/eugen/Desktop/Work/Merkle/model_evals.csv\")\n",
    "metrics_df.head()"
   ]
  },
  {
   "cell_type": "code",
   "execution_count": 42,
   "metadata": {},
   "outputs": [
    {
     "data": {
      "text/plain": [
       "1.0"
      ]
     },
     "execution_count": 42,
     "metadata": {},
     "output_type": "execute_result"
    }
   ],
   "source": [
    "np.round(0.76645)"
   ]
  },
  {
   "cell_type": "code",
   "execution_count": 46,
   "metadata": {},
   "outputs": [
    {
     "data": {
      "image/png": "[encoded data removed]",
      "text/plain": [
       "<Figure size 1080x504 with 1 Axes>"
      ]
     },
     "metadata": {},
     "output_type": "display_data"
    }
   ],
   "source": [
    "######################################## ACCURACY OF EACH ALGORITHM ######################################################\n",
    "sn.set(rc={'figure.figsize':(15,7)},font_scale=2)\n",
    "plot_acc = sn.barplot(y=\"Algorithms\", x=\"Accuracy\",orient='h', data=metrics_df.sort_values(\"Accuracy\", ascending=False))\n",
    "# label each bar in barplot\n",
    "for p in plot_acc.patches:\n",
    "    height = p.get_height() # height of each horizontal bar is the same\n",
    "    width = p.get_width() # width \n",
    "     # adding text to each bar\n",
    "    plot_acc.text(x = width, # x-coordinate position of data label, padded 3 to right of bar\n",
    "    y = p.get_y()+(height/2), # # y-coordinate position of data label, padded to be in the middle of the bar\n",
    "    s = '{:0.3f}'.format(width), # data label, formatted to ignore decimals\n",
    "    va = 'center') # sets vertical alignment (va) to center\n",
    "plt.show()"
   ]
  },
  {
   "cell_type": "code",
   "execution_count": 55,
   "metadata": {},
   "outputs": [
    {
     "data": {
      "image/png": "[encoded data removed]",
      "text/plain": [
       "<Figure size 1080x504 with 1 Axes>"
      ]
     },
     "metadata": {},
     "output_type": "display_data"
    }
   ],
   "source": [
    "######################################## SPECIFICITY OF EACH ALGORITHM ######################################################\n",
    "sn.set(rc={'figure.figsize':(15,7)},font_scale=2)\n",
    "plot_spec = sn.barplot(y=\"Algorithms\", x=\"Specificity\",orient='h', data=metrics_df.sort_values(\"Specificity\", ascending=False))\n",
    "# label each bar in barplot\n",
    "for p in plot_spec.patches:\n",
    "    height = p.get_height() # height of each horizontal bar is the same\n",
    "    width = p.get_width() # width \n",
    "     # adding text to each bar\n",
    "    plot_spec.text(x = width, # x-coordinate position of data label, padded 3 to right of bar\n",
    "    y = p.get_y()+(height/2), # # y-coordinate position of data label, padded to be in the middle of the bar\n",
    "    s = '{:0.3f}'.format(width), # data label, formatted to ignore decimals\n",
    "    va = 'center') # sets vertical alignment (va) to center\n",
    "plt.show()"
   ]
  },
  {
   "cell_type": "code",
   "execution_count": 56,
   "metadata": {},
   "outputs": [
    {
     "data": {
      "image/png": "[encoded data removed]",
      "text/plain": [
       "<Figure size 1080x504 with 1 Axes>"
      ]
     },
     "metadata": {},
     "output_type": "display_data"
    }
   ],
   "source": [
    "##################################### SENSITIVITY OF EACH ALGORITHM ################################################\n",
    "sn.set(rc={'figure.figsize':(15,7)},font_scale=2)\n",
    "plot_sen = sn.barplot(y=\"Algorithms\", x=\"Sensitivity\",orient='h', data=metrics_df.sort_values(\"Sensitivity\", ascending=False))\n",
    "# label each bar in barplot\n",
    "for p in plot_sen.patches:\n",
    "    height = p.get_height() # height of each horizontal bar is the same\n",
    "    width = p.get_width() # width \n",
    "     # adding text to each bar\n",
    "    plot_sen.text(x = width, # x-coordinate position of data label, padded 3 to right of bar\n",
    "    y = p.get_y()+(height/2), # # y-coordinate position of data label, padded to be in the middle of the bar\n",
    "    s = '{:0.3f}'.format(width), # data label, formatted to ignore decimals\n",
    "    va = 'center') # sets vertical alignment (va) to center\n",
    "plt.show()"
   ]
  },
  {
   "cell_type": "code",
   "execution_count": 10,
   "metadata": {},
   "outputs": [
    {
     "name": "stderr",
     "output_type": "stream",
     "text": [
      "C:\\Users\\eugen\\Anaconda3\\lib\\site-packages\\ipykernel\\ipkernel.py:287: DeprecationWarning:\n",
      "\n",
      "`should_run_async` will not call `transform_cell` automatically in the future. Please pass the result to `transformed_cell` argument and any exception that happen during thetransform in `preprocessing_exc_tuple` in IPython 7.17 and above.\n",
      "\n"
     ]
    }
   ],
   "source": [
    "warnings.filterwarnings(\"ignore\")"
   ]
  },
  {
   "cell_type": "code",
   "execution_count": 11,
   "metadata": {},
   "outputs": [],
   "source": [
    "import pickle"
   ]
  },
  {
   "cell_type": "code",
   "execution_count": 16,
   "metadata": {},
   "outputs": [],
   "source": [
    "# save model to file\n",
    "pickle.dump(cal_full_KNN, open(\"C:/Users/eugen/Desktop/Work/Merkle/model.pickle.dat\", \"wb\"))"
   ]
  },
  {
   "cell_type": "code",
   "execution_count": 12,
   "metadata": {},
   "outputs": [],
   "source": [
    "#Loading model into IDE\n",
    "loaded_model = pickle.load(open(\"C:/Users/eugen/Desktop/Work/Merkle/model.pickle.dat\", \"rb\"))"
   ]
  },
  {
   "cell_type": "code",
   "execution_count": 13,
   "metadata": {},
   "outputs": [
    {
     "data": {
      "text/html": [
       "<div>\n",
       "<style scoped>\n",
       "    .dataframe tbody tr th:only-of-type {\n",
       "        vertical-align: middle;\n",
       "    }\n",
       "\n",
       "    .dataframe tbody tr th {\n",
       "        vertical-align: top;\n",
       "    }\n",
       "\n",
       "    .dataframe thead th {\n",
       "        text-align: right;\n",
       "    }\n",
       "</style>\n",
       "<table border=\"1\" class=\"dataframe\">\n",
       "  <thead>\n",
       "    <tr style=\"text-align: right;\">\n",
       "      <th></th>\n",
       "      <th>0</th>\n",
       "    </tr>\n",
       "  </thead>\n",
       "  <tbody>\n",
       "    <tr>\n",
       "      <th>0</th>\n",
       "      <td>Churn</td>\n",
       "    </tr>\n",
       "    <tr>\n",
       "      <th>1</th>\n",
       "      <td>No churn</td>\n",
       "    </tr>\n",
       "    <tr>\n",
       "      <th>2</th>\n",
       "      <td>No churn</td>\n",
       "    </tr>\n",
       "    <tr>\n",
       "      <th>3</th>\n",
       "      <td>Churn</td>\n",
       "    </tr>\n",
       "    <tr>\n",
       "      <th>4</th>\n",
       "      <td>No churn</td>\n",
       "    </tr>\n",
       "  </tbody>\n",
       "</table>\n",
       "</div>"
      ],
      "text/plain": [
       "          0\n",
       "0     Churn\n",
       "1  No churn\n",
       "2  No churn\n",
       "3     Churn\n",
       "4  No churn"
      ]
     },
     "execution_count": 13,
     "metadata": {},
     "output_type": "execute_result"
    }
   ],
   "source": [
    "#Prediction output\n",
    "p.DataFrame(loaded_model.predict(test_X[0:5])).replace(1,\"Churn\").replace(0,\"No churn\")"
   ]
  },
  {
   "cell_type": "code",
   "execution_count": 17,
   "metadata": {},
   "outputs": [],
   "source": [
    "#import joblib"
   ]
  },
  {
   "cell_type": "code",
   "execution_count": 16,
   "metadata": {},
   "outputs": [],
   "source": [
    "#joblib.dump(cal_full_GB, \"C:/Users/eugen/Desktop/Work/Merkle/model.pickle.sav\")"
   ]
  },
  {
   "cell_type": "code",
   "execution_count": 18,
   "metadata": {},
   "outputs": [],
   "source": [
    "#loaded_model = joblib.load(\"C:/Users/eugen/Desktop/Work/Merkle/model.pickle.sav\")"
   ]
  },
  {
   "cell_type": "code",
   "execution_count": 19,
   "metadata": {},
   "outputs": [],
   "source": [
    "#p.DataFrame(loaded_model.predict(test_X[0:5])).replace(1,\"Churn\").replace(0,\"No churn\")"
   ]
  },
  {
   "cell_type": "markdown",
   "metadata": {},
   "source": [
    "## Deriving a campaign through clustering"
   ]
  },
  {
   "cell_type": "code",
   "execution_count": 22,
   "metadata": {},
   "outputs": [
    {
     "name": "stderr",
     "output_type": "stream",
     "text": [
      "C:\\Users\\eugen\\Anaconda3\\lib\\site-packages\\ipykernel\\ipkernel.py:287: DeprecationWarning:\n",
      "\n",
      "`should_run_async` will not call `transform_cell` automatically in the future. Please pass the result to `transformed_cell` argument and any exception that happen during thetransform in `preprocessing_exc_tuple` in IPython 7.17 and above.\n",
      "\n"
     ]
    }
   ],
   "source": [
    "warnings.filterwarnings(\"ignore\")"
   ]
  },
  {
   "cell_type": "code",
   "execution_count": 51,
   "metadata": {
    "scrolled": true
   },
   "outputs": [
    {
     "data": {
      "text/html": [
       "<div>\n",
       "<style scoped>\n",
       "    .dataframe tbody tr th:only-of-type {\n",
       "        vertical-align: middle;\n",
       "    }\n",
       "\n",
       "    .dataframe tbody tr th {\n",
       "        vertical-align: top;\n",
       "    }\n",
       "\n",
       "    .dataframe thead th {\n",
       "        text-align: right;\n",
       "    }\n",
       "</style>\n",
       "<table border=\"1\" class=\"dataframe\">\n",
       "  <thead>\n",
       "    <tr style=\"text-align: right;\">\n",
       "      <th></th>\n",
       "      <th>SeniorCitizen</th>\n",
       "      <th>tenure</th>\n",
       "      <th>MonthlyCharges</th>\n",
       "      <th>gender_Female</th>\n",
       "      <th>gender_Male</th>\n",
       "      <th>Partner_No</th>\n",
       "      <th>Partner_Yes</th>\n",
       "      <th>Dependents_No</th>\n",
       "      <th>Dependents_Yes</th>\n",
       "      <th>PhoneService_No</th>\n",
       "      <th>...</th>\n",
       "      <th>Contract_One year</th>\n",
       "      <th>Contract_Two year</th>\n",
       "      <th>PaperlessBilling_No</th>\n",
       "      <th>PaperlessBilling_Yes</th>\n",
       "      <th>PaymentMethod_Bank transfer (automatic)</th>\n",
       "      <th>PaymentMethod_Credit card (automatic)</th>\n",
       "      <th>PaymentMethod_Electronic check</th>\n",
       "      <th>PaymentMethod_Mailed check</th>\n",
       "      <th>Churn</th>\n",
       "      <th>customerID</th>\n",
       "    </tr>\n",
       "  </thead>\n",
       "  <tbody>\n",
       "    <tr>\n",
       "      <th>0</th>\n",
       "      <td>0</td>\n",
       "      <td>1</td>\n",
       "      <td>29.85</td>\n",
       "      <td>1</td>\n",
       "      <td>0</td>\n",
       "      <td>0</td>\n",
       "      <td>1</td>\n",
       "      <td>1</td>\n",
       "      <td>0</td>\n",
       "      <td>1</td>\n",
       "      <td>...</td>\n",
       "      <td>0</td>\n",
       "      <td>0</td>\n",
       "      <td>0</td>\n",
       "      <td>1</td>\n",
       "      <td>0</td>\n",
       "      <td>0</td>\n",
       "      <td>1</td>\n",
       "      <td>0</td>\n",
       "      <td>No</td>\n",
       "      <td>7590-VHVEG</td>\n",
       "    </tr>\n",
       "    <tr>\n",
       "      <th>1</th>\n",
       "      <td>0</td>\n",
       "      <td>34</td>\n",
       "      <td>56.95</td>\n",
       "      <td>0</td>\n",
       "      <td>1</td>\n",
       "      <td>1</td>\n",
       "      <td>0</td>\n",
       "      <td>1</td>\n",
       "      <td>0</td>\n",
       "      <td>0</td>\n",
       "      <td>...</td>\n",
       "      <td>1</td>\n",
       "      <td>0</td>\n",
       "      <td>1</td>\n",
       "      <td>0</td>\n",
       "      <td>0</td>\n",
       "      <td>0</td>\n",
       "      <td>0</td>\n",
       "      <td>1</td>\n",
       "      <td>No</td>\n",
       "      <td>5575-GNVDE</td>\n",
       "    </tr>\n",
       "    <tr>\n",
       "      <th>3</th>\n",
       "      <td>0</td>\n",
       "      <td>45</td>\n",
       "      <td>42.30</td>\n",
       "      <td>0</td>\n",
       "      <td>1</td>\n",
       "      <td>1</td>\n",
       "      <td>0</td>\n",
       "      <td>1</td>\n",
       "      <td>0</td>\n",
       "      <td>1</td>\n",
       "      <td>...</td>\n",
       "      <td>1</td>\n",
       "      <td>0</td>\n",
       "      <td>1</td>\n",
       "      <td>0</td>\n",
       "      <td>1</td>\n",
       "      <td>0</td>\n",
       "      <td>0</td>\n",
       "      <td>0</td>\n",
       "      <td>No</td>\n",
       "      <td>7795-CFOCW</td>\n",
       "    </tr>\n",
       "    <tr>\n",
       "      <th>6</th>\n",
       "      <td>0</td>\n",
       "      <td>22</td>\n",
       "      <td>89.10</td>\n",
       "      <td>0</td>\n",
       "      <td>1</td>\n",
       "      <td>1</td>\n",
       "      <td>0</td>\n",
       "      <td>0</td>\n",
       "      <td>1</td>\n",
       "      <td>0</td>\n",
       "      <td>...</td>\n",
       "      <td>0</td>\n",
       "      <td>0</td>\n",
       "      <td>0</td>\n",
       "      <td>1</td>\n",
       "      <td>0</td>\n",
       "      <td>1</td>\n",
       "      <td>0</td>\n",
       "      <td>0</td>\n",
       "      <td>No</td>\n",
       "      <td>1452-KIOVK</td>\n",
       "    </tr>\n",
       "    <tr>\n",
       "      <th>7</th>\n",
       "      <td>0</td>\n",
       "      <td>10</td>\n",
       "      <td>29.75</td>\n",
       "      <td>1</td>\n",
       "      <td>0</td>\n",
       "      <td>1</td>\n",
       "      <td>0</td>\n",
       "      <td>1</td>\n",
       "      <td>0</td>\n",
       "      <td>1</td>\n",
       "      <td>...</td>\n",
       "      <td>0</td>\n",
       "      <td>0</td>\n",
       "      <td>1</td>\n",
       "      <td>0</td>\n",
       "      <td>0</td>\n",
       "      <td>0</td>\n",
       "      <td>0</td>\n",
       "      <td>1</td>\n",
       "      <td>No</td>\n",
       "      <td>6713-OKOMC</td>\n",
       "    </tr>\n",
       "  </tbody>\n",
       "</table>\n",
       "<p>5 rows × 46 columns</p>\n",
       "</div>"
      ],
      "text/plain": [
       "   SeniorCitizen  tenure  MonthlyCharges  gender_Female  gender_Male  \\\n",
       "0              0       1           29.85              1            0   \n",
       "1              0      34           56.95              0            1   \n",
       "3              0      45           42.30              0            1   \n",
       "6              0      22           89.10              0            1   \n",
       "7              0      10           29.75              1            0   \n",
       "\n",
       "   Partner_No  Partner_Yes  Dependents_No  Dependents_Yes  PhoneService_No  \\\n",
       "0           0            1              1               0                1   \n",
       "1           1            0              1               0                0   \n",
       "3           1            0              1               0                1   \n",
       "6           1            0              0               1                0   \n",
       "7           1            0              1               0                1   \n",
       "\n",
       "   ...  Contract_One year  Contract_Two year  PaperlessBilling_No  \\\n",
       "0  ...                  0                  0                    0   \n",
       "1  ...                  1                  0                    1   \n",
       "3  ...                  1                  0                    1   \n",
       "6  ...                  0                  0                    0   \n",
       "7  ...                  0                  0                    1   \n",
       "\n",
       "   PaperlessBilling_Yes  PaymentMethod_Bank transfer (automatic)  \\\n",
       "0                     1                                        0   \n",
       "1                     0                                        0   \n",
       "3                     0                                        1   \n",
       "6                     1                                        0   \n",
       "7                     0                                        0   \n",
       "\n",
       "   PaymentMethod_Credit card (automatic)  PaymentMethod_Electronic check  \\\n",
       "0                                      0                               1   \n",
       "1                                      0                               0   \n",
       "3                                      0                               0   \n",
       "6                                      1                               0   \n",
       "7                                      0                               0   \n",
       "\n",
       "   PaymentMethod_Mailed check  Churn  customerID  \n",
       "0                           0     No  7590-VHVEG  \n",
       "1                           1     No  5575-GNVDE  \n",
       "3                           0     No  7795-CFOCW  \n",
       "6                           0     No  1452-KIOVK  \n",
       "7                           1     No  6713-OKOMC  \n",
       "\n",
       "[5 rows x 46 columns]"
      ]
     },
     "execution_count": 51,
     "metadata": {},
     "output_type": "execute_result"
    }
   ],
   "source": [
    "data_dums[\"Churn\"] = data[\"Churn\"]\n",
    "data_dums[\"customerID\"] = data[\"customerID\"]\n",
    "data_churn = data_dums.loc[data_dums[\"Churn\"]==\"No\",]\n",
    "data_churn = p.DataFrame(data_churn.drop([\"TotalCharges\"],axis=1))\n",
    "data_churn.head()"
   ]
  },
  {
   "cell_type": "code",
   "execution_count": 52,
   "metadata": {},
   "outputs": [
    {
     "name": "stdout",
     "output_type": "stream",
     "text": [
      "5174\n"
     ]
    }
   ],
   "source": [
    "print(len(data_churn))"
   ]
  },
  {
   "cell_type": "code",
   "execution_count": 53,
   "metadata": {},
   "outputs": [
    {
     "data": {
      "image/png": "[encoded data removed]",
      "text/plain": [
       "<Figure size 432x288 with 1 Axes>"
      ]
     },
     "metadata": {
      "needs_background": "light"
     },
     "output_type": "display_data"
    }
   ],
   "source": [
    "#Dropping the Churn and customer columns which is not needed in the clustering process\n",
    "Churn_clustering = data_churn.drop([\"Churn\",\"customerID\"], 1)\n",
    "\n",
    "SSE_vec=[] #Initialising list for SSE\n",
    "kmeans_mods=[]  #Initialising list for K-means clustering models\n",
    "for k in range(1,15):\n",
    "    # run k-means clustering\n",
    "    kmeans = KMeans(n_clusters=k, random_state=0).fit(Churn_clustering)\n",
    "    SSE_vec.append(kmeans.inertia_)\n",
    "    kmeans_mods.append(kmeans)\n",
    "\n",
    "# plotting the intra SSE versus the number of clusters\n",
    "plt.plot(range(1, 15), SSE_vec, marker='o')\n",
    "plt.xlabel('Number of clusters')\n",
    "plt.ylabel('SSE')\n",
    "plt.show()"
   ]
  },
  {
   "cell_type": "code",
   "execution_count": 54,
   "metadata": {},
   "outputs": [
    {
     "data": {
      "text/plain": [
       "array([1, 2, 3, 4])"
      ]
     },
     "execution_count": 54,
     "metadata": {},
     "output_type": "execute_result"
    }
   ],
   "source": [
    "np.unique(kmeans_mods[3].labels_ + 1)"
   ]
  },
  {
   "cell_type": "code",
   "execution_count": 56,
   "metadata": {},
   "outputs": [
    {
     "data": {
      "text/html": [
       "<div>\n",
       "<style scoped>\n",
       "    .dataframe tbody tr th:only-of-type {\n",
       "        vertical-align: middle;\n",
       "    }\n",
       "\n",
       "    .dataframe tbody tr th {\n",
       "        vertical-align: top;\n",
       "    }\n",
       "\n",
       "    .dataframe thead th {\n",
       "        text-align: right;\n",
       "    }\n",
       "</style>\n",
       "<table border=\"1\" class=\"dataframe\">\n",
       "  <thead>\n",
       "    <tr style=\"text-align: right;\">\n",
       "      <th></th>\n",
       "      <th>customerID</th>\n",
       "      <th>Cluster</th>\n",
       "      <th>SeniorCitizen</th>\n",
       "      <th>tenure</th>\n",
       "      <th>MonthlyCharges</th>\n",
       "      <th>gender_Female</th>\n",
       "      <th>gender_Male</th>\n",
       "      <th>Partner_No</th>\n",
       "      <th>Partner_Yes</th>\n",
       "      <th>Dependents_No</th>\n",
       "      <th>...</th>\n",
       "      <th>Contract_Month-to-month</th>\n",
       "      <th>Contract_One year</th>\n",
       "      <th>Contract_Two year</th>\n",
       "      <th>PaperlessBilling_No</th>\n",
       "      <th>PaperlessBilling_Yes</th>\n",
       "      <th>PaymentMethod_Bank transfer (automatic)</th>\n",
       "      <th>PaymentMethod_Credit card (automatic)</th>\n",
       "      <th>PaymentMethod_Electronic check</th>\n",
       "      <th>PaymentMethod_Mailed check</th>\n",
       "      <th>Churn</th>\n",
       "    </tr>\n",
       "  </thead>\n",
       "  <tbody>\n",
       "    <tr>\n",
       "      <th>0</th>\n",
       "      <td>7590-VHVEG</td>\n",
       "      <td>2</td>\n",
       "      <td>0</td>\n",
       "      <td>1</td>\n",
       "      <td>29.85</td>\n",
       "      <td>1</td>\n",
       "      <td>0</td>\n",
       "      <td>0</td>\n",
       "      <td>1</td>\n",
       "      <td>1</td>\n",
       "      <td>...</td>\n",
       "      <td>1</td>\n",
       "      <td>0</td>\n",
       "      <td>0</td>\n",
       "      <td>0</td>\n",
       "      <td>1</td>\n",
       "      <td>0</td>\n",
       "      <td>0</td>\n",
       "      <td>1</td>\n",
       "      <td>0</td>\n",
       "      <td>No</td>\n",
       "    </tr>\n",
       "    <tr>\n",
       "      <th>1</th>\n",
       "      <td>5575-GNVDE</td>\n",
       "      <td>4</td>\n",
       "      <td>0</td>\n",
       "      <td>34</td>\n",
       "      <td>56.95</td>\n",
       "      <td>0</td>\n",
       "      <td>1</td>\n",
       "      <td>1</td>\n",
       "      <td>0</td>\n",
       "      <td>1</td>\n",
       "      <td>...</td>\n",
       "      <td>0</td>\n",
       "      <td>1</td>\n",
       "      <td>0</td>\n",
       "      <td>1</td>\n",
       "      <td>0</td>\n",
       "      <td>0</td>\n",
       "      <td>0</td>\n",
       "      <td>0</td>\n",
       "      <td>1</td>\n",
       "      <td>No</td>\n",
       "    </tr>\n",
       "    <tr>\n",
       "      <th>3</th>\n",
       "      <td>7795-CFOCW</td>\n",
       "      <td>3</td>\n",
       "      <td>0</td>\n",
       "      <td>45</td>\n",
       "      <td>42.30</td>\n",
       "      <td>0</td>\n",
       "      <td>1</td>\n",
       "      <td>1</td>\n",
       "      <td>0</td>\n",
       "      <td>1</td>\n",
       "      <td>...</td>\n",
       "      <td>0</td>\n",
       "      <td>1</td>\n",
       "      <td>0</td>\n",
       "      <td>1</td>\n",
       "      <td>0</td>\n",
       "      <td>1</td>\n",
       "      <td>0</td>\n",
       "      <td>0</td>\n",
       "      <td>0</td>\n",
       "      <td>No</td>\n",
       "    </tr>\n",
       "    <tr>\n",
       "      <th>6</th>\n",
       "      <td>1452-KIOVK</td>\n",
       "      <td>4</td>\n",
       "      <td>0</td>\n",
       "      <td>22</td>\n",
       "      <td>89.10</td>\n",
       "      <td>0</td>\n",
       "      <td>1</td>\n",
       "      <td>1</td>\n",
       "      <td>0</td>\n",
       "      <td>0</td>\n",
       "      <td>...</td>\n",
       "      <td>1</td>\n",
       "      <td>0</td>\n",
       "      <td>0</td>\n",
       "      <td>0</td>\n",
       "      <td>1</td>\n",
       "      <td>0</td>\n",
       "      <td>1</td>\n",
       "      <td>0</td>\n",
       "      <td>0</td>\n",
       "      <td>No</td>\n",
       "    </tr>\n",
       "    <tr>\n",
       "      <th>7</th>\n",
       "      <td>6713-OKOMC</td>\n",
       "      <td>2</td>\n",
       "      <td>0</td>\n",
       "      <td>10</td>\n",
       "      <td>29.75</td>\n",
       "      <td>1</td>\n",
       "      <td>0</td>\n",
       "      <td>1</td>\n",
       "      <td>0</td>\n",
       "      <td>1</td>\n",
       "      <td>...</td>\n",
       "      <td>1</td>\n",
       "      <td>0</td>\n",
       "      <td>0</td>\n",
       "      <td>1</td>\n",
       "      <td>0</td>\n",
       "      <td>0</td>\n",
       "      <td>0</td>\n",
       "      <td>0</td>\n",
       "      <td>1</td>\n",
       "      <td>No</td>\n",
       "    </tr>\n",
       "  </tbody>\n",
       "</table>\n",
       "<p>5 rows × 47 columns</p>\n",
       "</div>"
      ],
      "text/plain": [
       "   customerID  Cluster  SeniorCitizen  tenure  MonthlyCharges  gender_Female  \\\n",
       "0  7590-VHVEG        2              0       1           29.85              1   \n",
       "1  5575-GNVDE        4              0      34           56.95              0   \n",
       "3  7795-CFOCW        3              0      45           42.30              0   \n",
       "6  1452-KIOVK        4              0      22           89.10              0   \n",
       "7  6713-OKOMC        2              0      10           29.75              1   \n",
       "\n",
       "   gender_Male  Partner_No  Partner_Yes  Dependents_No  ...  \\\n",
       "0            0           0            1              1  ...   \n",
       "1            1           1            0              1  ...   \n",
       "3            1           1            0              1  ...   \n",
       "6            1           1            0              0  ...   \n",
       "7            0           1            0              1  ...   \n",
       "\n",
       "   Contract_Month-to-month  Contract_One year  Contract_Two year  \\\n",
       "0                        1                  0                  0   \n",
       "1                        0                  1                  0   \n",
       "3                        0                  1                  0   \n",
       "6                        1                  0                  0   \n",
       "7                        1                  0                  0   \n",
       "\n",
       "   PaperlessBilling_No  PaperlessBilling_Yes  \\\n",
       "0                    0                     1   \n",
       "1                    1                     0   \n",
       "3                    1                     0   \n",
       "6                    0                     1   \n",
       "7                    1                     0   \n",
       "\n",
       "   PaymentMethod_Bank transfer (automatic)  \\\n",
       "0                                        0   \n",
       "1                                        0   \n",
       "3                                        1   \n",
       "6                                        0   \n",
       "7                                        0   \n",
       "\n",
       "   PaymentMethod_Credit card (automatic)  PaymentMethod_Electronic check  \\\n",
       "0                                      0                               1   \n",
       "1                                      0                               0   \n",
       "3                                      0                               0   \n",
       "6                                      1                               0   \n",
       "7                                      0                               0   \n",
       "\n",
       "   PaymentMethod_Mailed check  Churn  \n",
       "0                           0     No  \n",
       "1                           1     No  \n",
       "3                           0     No  \n",
       "6                           0     No  \n",
       "7                           1     No  \n",
       "\n",
       "[5 rows x 47 columns]"
      ]
     },
     "execution_count": 56,
     "metadata": {},
     "output_type": "execute_result"
    }
   ],
   "source": [
    "data_churn[\"customerID\"] = data[\"customerID\"] #Adding customer IDs to the clustered data\n",
    "data_churn[\"Cluster\"] = kmeans_mods[3].labels_ + 1 #Bringing the cluster labels to the first column\n",
    "cols = data_churn.columns.tolist() \n",
    "cols = cols[-1:] + cols[:-1]   #Pushing the Cluster labels to the first column\n",
    "data_churn = data_churn[cols]\n",
    "data_churn.head()"
   ]
  },
  {
   "cell_type": "code",
   "execution_count": 57,
   "metadata": {},
   "outputs": [
    {
     "data": {
      "text/html": [
       "<div>\n",
       "<style scoped>\n",
       "    .dataframe tbody tr th:only-of-type {\n",
       "        vertical-align: middle;\n",
       "    }\n",
       "\n",
       "    .dataframe tbody tr th {\n",
       "        vertical-align: top;\n",
       "    }\n",
       "\n",
       "    .dataframe thead th {\n",
       "        text-align: right;\n",
       "    }\n",
       "</style>\n",
       "<table border=\"1\" class=\"dataframe\">\n",
       "  <thead>\n",
       "    <tr style=\"text-align: right;\">\n",
       "      <th></th>\n",
       "      <th>Cluster</th>\n",
       "      <th>Churn</th>\n",
       "    </tr>\n",
       "  </thead>\n",
       "  <tbody>\n",
       "    <tr>\n",
       "      <th>0</th>\n",
       "      <td>1</td>\n",
       "      <td>1619</td>\n",
       "    </tr>\n",
       "    <tr>\n",
       "      <th>1</th>\n",
       "      <td>2</td>\n",
       "      <td>1209</td>\n",
       "    </tr>\n",
       "    <tr>\n",
       "      <th>2</th>\n",
       "      <td>3</td>\n",
       "      <td>996</td>\n",
       "    </tr>\n",
       "    <tr>\n",
       "      <th>3</th>\n",
       "      <td>4</td>\n",
       "      <td>1350</td>\n",
       "    </tr>\n",
       "  </tbody>\n",
       "</table>\n",
       "</div>"
      ],
      "text/plain": [
       "   Cluster  Churn\n",
       "0        1   1619\n",
       "1        2   1209\n",
       "2        3    996\n",
       "3        4   1350"
      ]
     },
     "execution_count": 57,
     "metadata": {},
     "output_type": "execute_result"
    }
   ],
   "source": [
    "#Distribution of loyal clients\n",
    "data_churn.loc[:,[\"Churn\",\"Cluster\"]].groupby(\"Cluster\").count().reset_index()"
   ]
  },
  {
   "cell_type": "code",
   "execution_count": 71,
   "metadata": {},
   "outputs": [],
   "source": [
    "# Categorical features\n",
    "cat_feat = ['SeniorCitizen', 'gender_Female', 'gender_Male', 'Partner_No', 'Partner_Yes', 'Dependents_No', \n",
    "            'Dependents_Yes', 'PhoneService_No', 'PhoneService_Yes', 'MultipleLines_No', 'MultipleLines_No phone service',\n",
    "            'MultipleLines_Yes', 'InternetService_DSL', 'InternetService_Fiber optic', 'InternetService_No', \n",
    "            'OnlineSecurity_No', 'OnlineSecurity_No internet service', 'OnlineSecurity_Yes', 'OnlineBackup_No',\n",
    "            'OnlineBackup_No internet service', 'OnlineBackup_Yes', 'DeviceProtection_No',\n",
    "            'DeviceProtection_No internet service', 'DeviceProtection_Yes', 'TechSupport_No',\n",
    "            'TechSupport_No internet service', 'TechSupport_Yes', 'StreamingTV_No', 'StreamingTV_No internet service', \n",
    "            'StreamingTV_Yes', 'StreamingMovies_No', 'StreamingMovies_No internet service', 'StreamingMovies_Yes',\n",
    "            'Contract_Month-to-month', 'Contract_One year', 'Contract_Two year', 'PaperlessBilling_No', 'PaperlessBilling_Yes',\n",
    "            'PaymentMethod_Bank transfer (automatic)', 'PaymentMethod_Credit card (automatic)',\n",
    "            'PaymentMethod_Electronic check', 'PaymentMethod_Mailed check']"
   ]
  },
  {
   "cell_type": "code",
   "execution_count": 78,
   "metadata": {},
   "outputs": [
    {
     "data": {
      "text/html": [
       "<div>\n",
       "<style scoped>\n",
       "    .dataframe tbody tr th:only-of-type {\n",
       "        vertical-align: middle;\n",
       "    }\n",
       "\n",
       "    .dataframe tbody tr th {\n",
       "        vertical-align: top;\n",
       "    }\n",
       "\n",
       "    .dataframe thead th {\n",
       "        text-align: right;\n",
       "    }\n",
       "</style>\n",
       "<table border=\"1\" class=\"dataframe\">\n",
       "  <thead>\n",
       "    <tr style=\"text-align: right;\">\n",
       "      <th></th>\n",
       "      <th>Cluster</th>\n",
       "      <th>tenure</th>\n",
       "      <th>MonthlyCharges</th>\n",
       "    </tr>\n",
       "  </thead>\n",
       "  <tbody>\n",
       "    <tr>\n",
       "      <th>0</th>\n",
       "      <td>1</td>\n",
       "      <td>60.067326</td>\n",
       "      <td>92.764145</td>\n",
       "    </tr>\n",
       "    <tr>\n",
       "      <th>1</th>\n",
       "      <td>2</td>\n",
       "      <td>12.566584</td>\n",
       "      <td>27.583954</td>\n",
       "    </tr>\n",
       "    <tr>\n",
       "      <th>2</th>\n",
       "      <td>3</td>\n",
       "      <td>56.186747</td>\n",
       "      <td>32.628213</td>\n",
       "    </tr>\n",
       "    <tr>\n",
       "      <th>3</th>\n",
       "      <td>4</td>\n",
       "      <td>19.246667</td>\n",
       "      <td>74.780667</td>\n",
       "    </tr>\n",
       "  </tbody>\n",
       "</table>\n",
       "</div>"
      ],
      "text/plain": [
       "   Cluster     tenure  MonthlyCharges\n",
       "0        1  60.067326       92.764145\n",
       "1        2  12.566584       27.583954\n",
       "2        3  56.186747       32.628213\n",
       "3        4  19.246667       74.780667"
      ]
     },
     "execution_count": 78,
     "metadata": {},
     "output_type": "execute_result"
    }
   ],
   "source": [
    "#Obtaining the means of quantitative features per cluster\n",
    "cluster_means=data_churn.loc[:,[\"Cluster\",\"tenure\",\"MonthlyCharges\"]].groupby(\"Cluster\",as_index=False).mean()\n",
    "cluster_means"
   ]
  },
  {
   "cell_type": "code",
   "execution_count": 82,
   "metadata": {},
   "outputs": [
    {
     "name": "stdout",
     "output_type": "stream",
     "text": [
      "[37.56996521066873, 61.2651236953999]\n"
     ]
    }
   ],
   "source": [
    "print(quan_feat_mean)"
   ]
  },
  {
   "cell_type": "code",
   "execution_count": 72,
   "metadata": {},
   "outputs": [],
   "source": [
    "cat_feat.append(\"Cluster\") #Run this prior to running the next cell"
   ]
  },
  {
   "cell_type": "code",
   "execution_count": 75,
   "metadata": {},
   "outputs": [
    {
     "data": {
      "text/html": [
       "<div>\n",
       "<style scoped>\n",
       "    .dataframe tbody tr th:only-of-type {\n",
       "        vertical-align: middle;\n",
       "    }\n",
       "\n",
       "    .dataframe tbody tr th {\n",
       "        vertical-align: top;\n",
       "    }\n",
       "\n",
       "    .dataframe thead th {\n",
       "        text-align: right;\n",
       "    }\n",
       "</style>\n",
       "<table border=\"1\" class=\"dataframe\">\n",
       "  <thead>\n",
       "    <tr style=\"text-align: right;\">\n",
       "      <th></th>\n",
       "      <th>SeniorCitizen</th>\n",
       "      <th>gender_Female</th>\n",
       "      <th>gender_Male</th>\n",
       "      <th>Partner_No</th>\n",
       "      <th>Partner_Yes</th>\n",
       "      <th>Dependents_No</th>\n",
       "      <th>Dependents_Yes</th>\n",
       "      <th>PhoneService_No</th>\n",
       "      <th>PhoneService_Yes</th>\n",
       "      <th>MultipleLines_No</th>\n",
       "      <th>...</th>\n",
       "      <th>Contract_Month-to-month</th>\n",
       "      <th>Contract_One year</th>\n",
       "      <th>Contract_Two year</th>\n",
       "      <th>PaperlessBilling_No</th>\n",
       "      <th>PaperlessBilling_Yes</th>\n",
       "      <th>PaymentMethod_Bank transfer (automatic)</th>\n",
       "      <th>PaymentMethod_Credit card (automatic)</th>\n",
       "      <th>PaymentMethod_Electronic check</th>\n",
       "      <th>PaymentMethod_Mailed check</th>\n",
       "      <th>Cluster</th>\n",
       "    </tr>\n",
       "  </thead>\n",
       "  <tbody>\n",
       "    <tr>\n",
       "      <th>0</th>\n",
       "      <td>0</td>\n",
       "      <td>1</td>\n",
       "      <td>0</td>\n",
       "      <td>0</td>\n",
       "      <td>1</td>\n",
       "      <td>1</td>\n",
       "      <td>0</td>\n",
       "      <td>0</td>\n",
       "      <td>1</td>\n",
       "      <td>0</td>\n",
       "      <td>...</td>\n",
       "      <td>0</td>\n",
       "      <td>0</td>\n",
       "      <td>0</td>\n",
       "      <td>0</td>\n",
       "      <td>1</td>\n",
       "      <td>0</td>\n",
       "      <td>0</td>\n",
       "      <td>0</td>\n",
       "      <td>0</td>\n",
       "      <td>1</td>\n",
       "    </tr>\n",
       "    <tr>\n",
       "      <th>1</th>\n",
       "      <td>0</td>\n",
       "      <td>0</td>\n",
       "      <td>1</td>\n",
       "      <td>1</td>\n",
       "      <td>0</td>\n",
       "      <td>1</td>\n",
       "      <td>0</td>\n",
       "      <td>0</td>\n",
       "      <td>1</td>\n",
       "      <td>1</td>\n",
       "      <td>...</td>\n",
       "      <td>1</td>\n",
       "      <td>0</td>\n",
       "      <td>0</td>\n",
       "      <td>1</td>\n",
       "      <td>0</td>\n",
       "      <td>0</td>\n",
       "      <td>0</td>\n",
       "      <td>0</td>\n",
       "      <td>1</td>\n",
       "      <td>2</td>\n",
       "    </tr>\n",
       "    <tr>\n",
       "      <th>2</th>\n",
       "      <td>0</td>\n",
       "      <td>1</td>\n",
       "      <td>0</td>\n",
       "      <td>0</td>\n",
       "      <td>1</td>\n",
       "      <td>1</td>\n",
       "      <td>0</td>\n",
       "      <td>0</td>\n",
       "      <td>1</td>\n",
       "      <td>0</td>\n",
       "      <td>...</td>\n",
       "      <td>0</td>\n",
       "      <td>0</td>\n",
       "      <td>1</td>\n",
       "      <td>1</td>\n",
       "      <td>0</td>\n",
       "      <td>0</td>\n",
       "      <td>0</td>\n",
       "      <td>0</td>\n",
       "      <td>0</td>\n",
       "      <td>3</td>\n",
       "    </tr>\n",
       "    <tr>\n",
       "      <th>3</th>\n",
       "      <td>0</td>\n",
       "      <td>0</td>\n",
       "      <td>1</td>\n",
       "      <td>1</td>\n",
       "      <td>0</td>\n",
       "      <td>1</td>\n",
       "      <td>0</td>\n",
       "      <td>0</td>\n",
       "      <td>1</td>\n",
       "      <td>1</td>\n",
       "      <td>...</td>\n",
       "      <td>1</td>\n",
       "      <td>0</td>\n",
       "      <td>0</td>\n",
       "      <td>0</td>\n",
       "      <td>1</td>\n",
       "      <td>0</td>\n",
       "      <td>0</td>\n",
       "      <td>0</td>\n",
       "      <td>0</td>\n",
       "      <td>4</td>\n",
       "    </tr>\n",
       "  </tbody>\n",
       "</table>\n",
       "<p>4 rows × 43 columns</p>\n",
       "</div>"
      ],
      "text/plain": [
       "   SeniorCitizen  gender_Female  gender_Male  Partner_No  Partner_Yes  \\\n",
       "0              0              1            0           0            1   \n",
       "1              0              0            1           1            0   \n",
       "2              0              1            0           0            1   \n",
       "3              0              0            1           1            0   \n",
       "\n",
       "   Dependents_No  Dependents_Yes  PhoneService_No  PhoneService_Yes  \\\n",
       "0              1               0                0                 1   \n",
       "1              1               0                0                 1   \n",
       "2              1               0                0                 1   \n",
       "3              1               0                0                 1   \n",
       "\n",
       "   MultipleLines_No  ...  Contract_Month-to-month  Contract_One year  \\\n",
       "0                 0  ...                        0                  0   \n",
       "1                 1  ...                        1                  0   \n",
       "2                 0  ...                        0                  0   \n",
       "3                 1  ...                        1                  0   \n",
       "\n",
       "   Contract_Two year  PaperlessBilling_No  PaperlessBilling_Yes  \\\n",
       "0                  0                    0                     1   \n",
       "1                  0                    1                     0   \n",
       "2                  1                    1                     0   \n",
       "3                  0                    0                     1   \n",
       "\n",
       "   PaymentMethod_Bank transfer (automatic)  \\\n",
       "0                                        0   \n",
       "1                                        0   \n",
       "2                                        0   \n",
       "3                                        0   \n",
       "\n",
       "   PaymentMethod_Credit card (automatic)  PaymentMethod_Electronic check  \\\n",
       "0                                      0                               0   \n",
       "1                                      0                               0   \n",
       "2                                      0                               0   \n",
       "3                                      0                               0   \n",
       "\n",
       "   PaymentMethod_Mailed check  Cluster  \n",
       "0                           0        1  \n",
       "1                           1        2  \n",
       "2                           0        3  \n",
       "3                           0        4  \n",
       "\n",
       "[4 rows x 43 columns]"
      ]
     },
     "execution_count": 75,
     "metadata": {},
     "output_type": "execute_result"
    }
   ],
   "source": [
    "#Obtaining the modes of categorical features per cluster\n",
    "cluster_modes = data_churn.loc[:,cat_feat].groupby(\"Cluster\").apply(p.DataFrame.mode).reset_index(drop=True)\n",
    "cluster_modes"
   ]
  },
  {
   "cell_type": "code",
   "execution_count": 88,
   "metadata": {},
   "outputs": [
    {
     "name": "stdout",
     "output_type": "stream",
     "text": [
      "6 determinants of cluster 1:  ['tenure', 'MonthlyCharges', 'Partner_Yes', 'Dependents_No', 'PhoneService_Yes', 'PaperlessBilling_Yes']\n",
      " \n",
      "3 determinants of cluster 2:  ['gender_Male', 'Dependents_No', 'PhoneService_Yes']\n",
      " \n",
      "4 determinants of cluster 3:  ['tenure', 'Partner_Yes', 'Dependents_No', 'PhoneService_Yes']\n",
      " \n",
      "5 determinants of cluster 4:  ['MonthlyCharges', 'gender_Male', 'Dependents_No', 'PhoneService_Yes', 'PaperlessBilling_Yes']\n",
      " \n"
     ]
    }
   ],
   "source": [
    "quan_feat = [\"tenure\",\"MonthlyCharges\"] #Quantitative features\n",
    "quan_feat_mean = list(data_churn.loc[:,quan_feat].mean()) #Overall means for each quantitative feature\n",
    "cat_feat_mode = data_churn.loc[:,cat_feat].mode().to_numpy().tolist()[0] #Overall modes for each categorical feature\n",
    "\n",
    "unique_features=[[],[],[],[]] #Initializing nested lists\n",
    "\n",
    "#Including quantitative features that have cluster means higher than respective overall means \n",
    "for col in range(1,len(list(cluster_means))):\n",
    "    for row in range(0,len(cluster_means)):\n",
    "        if cluster_means.iloc[row,col] > quan_feat_mean[col-1]:\n",
    "            unique_features[row].append(quan_feat[col-1])\n",
    "\n",
    "#Including categorical features that have cluster modes equal to overall mode and if the modes indicate a presence (=1)\n",
    "for col in range(0,len(list(cluster_modes))-1):\n",
    "    for row in range(0,len(cluster_modes)):\n",
    "        if cluster_modes.iloc[row,col] == cat_feat_mode[col] and cluster_modes.iloc[row,col] == 1:\n",
    "            unique_features[row].append(cat_feat[col])\n",
    "\n",
    "#Displaying the unique features per cluster\n",
    "for i in range(0,len(unique_features)):\n",
    "    print(\"{} determinants of cluster {}: \".format(len(unique_features[i]),i+1),unique_features[i])\n",
    "    print(\" \")\n",
    "        \n",
    "    "
   ]
  },
  {
   "cell_type": "markdown",
   "metadata": {},
   "source": [
    "# Using the model from back-end"
   ]
  },
  {
   "cell_type": "code",
   "execution_count": 97,
   "metadata": {},
   "outputs": [],
   "source": [
    "# Function: Function for predicting the churn status of a customer\n",
    "# Input: Data must be a numpy array of pandas data frame\n",
    "# Return: Output is a pandas data frame with 2 columns, churn status and campaign status\n",
    "def predictor(data):\n",
    "    \n",
    "    predicted = list(loaded_model.predict_proba(data)[:,1])\n",
    "    churn_vec = []\n",
    "    campaign_vec = []\n",
    "    \n",
    "    for i in range(0,len(predicted)):\n",
    "        if predicted[i] >= 0.8:\n",
    "            churn_vec.append(\"Churn\")\n",
    "            campaign_vec.append(\"Retention campain\")\n",
    "        else:\n",
    "            churn_vec.append(\"Not churn\")\n",
    "            campaign_vec.append(\"No retention campaign\")\n",
    "    \n",
    "    pred_data = p.DataFrame({\"Churn\":churn_vec,\n",
    "                            \"Campaign\":campaign_vec})\n",
    "    return pred_data"
   ]
  },
  {
   "cell_type": "code",
   "execution_count": 98,
   "metadata": {},
   "outputs": [
    {
     "data": {
      "text/html": [
       "<div>\n",
       "<style scoped>\n",
       "    .dataframe tbody tr th:only-of-type {\n",
       "        vertical-align: middle;\n",
       "    }\n",
       "\n",
       "    .dataframe tbody tr th {\n",
       "        vertical-align: top;\n",
       "    }\n",
       "\n",
       "    .dataframe thead th {\n",
       "        text-align: right;\n",
       "    }\n",
       "</style>\n",
       "<table border=\"1\" class=\"dataframe\">\n",
       "  <thead>\n",
       "    <tr style=\"text-align: right;\">\n",
       "      <th></th>\n",
       "      <th>Churn</th>\n",
       "      <th>Campaign</th>\n",
       "    </tr>\n",
       "  </thead>\n",
       "  <tbody>\n",
       "    <tr>\n",
       "      <th>0</th>\n",
       "      <td>Not churn</td>\n",
       "      <td>No retention campaign</td>\n",
       "    </tr>\n",
       "    <tr>\n",
       "      <th>1</th>\n",
       "      <td>Not churn</td>\n",
       "      <td>No retention campaign</td>\n",
       "    </tr>\n",
       "    <tr>\n",
       "      <th>2</th>\n",
       "      <td>Not churn</td>\n",
       "      <td>No retention campaign</td>\n",
       "    </tr>\n",
       "    <tr>\n",
       "      <th>3</th>\n",
       "      <td>Churn</td>\n",
       "      <td>Retention campain</td>\n",
       "    </tr>\n",
       "    <tr>\n",
       "      <th>4</th>\n",
       "      <td>Not churn</td>\n",
       "      <td>No retention campaign</td>\n",
       "    </tr>\n",
       "  </tbody>\n",
       "</table>\n",
       "</div>"
      ],
      "text/plain": [
       "       Churn               Campaign\n",
       "0  Not churn  No retention campaign\n",
       "1  Not churn  No retention campaign\n",
       "2  Not churn  No retention campaign\n",
       "3      Churn      Retention campain\n",
       "4  Not churn  No retention campaign"
      ]
     },
     "execution_count": 98,
     "metadata": {},
     "output_type": "execute_result"
    }
   ],
   "source": [
    "#Testing the features\n",
    "predictor(test_X[0:5])"
   ]
  },
  {
   "cell_type": "markdown",
   "metadata": {},
   "source": [
    "# Front-end usage of the best model"
   ]
  },
  {
   "cell_type": "code",
   "execution_count": 14,
   "metadata": {},
   "outputs": [],
   "source": [
    "from flask import Flask, render_template, request, make_response"
   ]
  },
  {
   "cell_type": "code",
   "execution_count": 15,
   "metadata": {},
   "outputs": [
    {
     "name": "stdout",
     "output_type": "stream",
     "text": [
      " * Serving Flask app \"__main__\" (lazy loading)\n",
      " * Environment: production\n",
      "   WARNING: This is a development server. Do not use it in a production deployment.\n",
      "   Use a production WSGI server instead.\n",
      " * Debug mode: off\n"
     ]
    },
    {
     "name": "stderr",
     "output_type": "stream",
     "text": [
      " * Running on http://127.0.0.1:5000/ (Press CTRL+C to quit)\n",
      "127.0.0.1 - - [10/Mar/2021 10:47:40] \"\u001b[37mGET / HTTP/1.1\u001b[0m\" 200 -\n",
      "127.0.0.1 - - [10/Mar/2021 10:47:45] \"\u001b[33mGET /favicon.ico HTTP/1.1\u001b[0m\" 404 -\n"
     ]
    }
   ],
   "source": [
    "app = Flask(__name__)\n",
    "\n",
    "@app.route('/')\n",
    "def home_method():\n",
    "    return render_template('Form.html')\n",
    "\n",
    "#To use the predict button in our web-app\n",
    "@app.route('/predict',methods=['POST','GET'])\n",
    "def predict():\n",
    "        #Creating customer's data\n",
    "    pred_data = p.DataFrame({'SeniorCitizen':[request.form[\"SeniorCitizen\"]], 'tenure':[request.form[\"tenure\"]], \n",
    "                             'MonthlyCharges':[request.form[\"MonthlyCharges\"]], 'gender_Female':[1 if request.form[\"gender\"]==\"Female\" else 0],\n",
    "                             'gender_Male':[1 if request.form[\"gender\"]==\"Male\" else 0], 'Partner_No':[1 if request.form[\"Partner\"]==\"No\" else 0],\n",
    "                             'Partner_Yes':[1 if request.form[\"Partner\"]==\"Yes\" else 0], 'Dependents_No':[1 if request.form[\"Dependents\"]==\"No\" else 0],\n",
    "                             'Dependents_Yes':[1 if request.form[\"Dependents\"]==\"Yes\" else 0],'PhoneService_No':[1 if request.form[\"PhoneService\"]==\"No\" else 0],\n",
    "                             'PhoneService_Yes':[1 if request.form[\"PhoneService\"]==\"Yes\" else 0], 'MultipleLines_No':[1 if request.form[\"MultipleLines\"]==\"No\" else 0],\n",
    "                             'MultipleLines_No phone service':[1 if request.form[\"MultipleLines\"]==\"No phone service\" else 0],\n",
    "                             'MultipleLines_Yes':[1 if request.form[\"MultipleLines\"]==\"Yes\" else 0], 'InternetService_DSL':[1 if request.form[\"InternetService\"]==\"DSL\" else 0],\n",
    "                             'InternetService_Fiber optic':[1 if request.form[\"InternetService\"]==\"Fiber optic\" else 0], \n",
    "                             'InternetService_No':[1 if request.form[\"InternetService\"]==\"No\" else 0], 'OnlineSecurity_No':[1 if request.form[\"OnlineSecurity\"]==\"No\" else 0],\n",
    "                             'OnlineSecurity_No internet service':[1 if request.form[\"OnlineSecurity\"]==\"No internet service\" else 0], \n",
    "                             'OnlineSecurity_Yes':[1 if request.form[\"OnlineSecurity\"]==\"Yes\" else 0], 'OnlineBackup_No':[1 if request.form[\"OnlineBackup\"]==\"No\" else 0],\n",
    "                             'OnlineBackup_No internet service':[1 if request.form[\"OnlineBackup\"]==\"No internet service\" else 0],\n",
    "                             'OnlineBackup_Yes':[1 if request.form[\"OnlineBackup\"]==\"Yes\" else 0], 'DeviceProtection_No':[1 if request.form[\"DeviceProtection\"]==\"No\" else 0],\n",
    "                             'DeviceProtection_No internet service':[1 if request.form[\"DeviceProtection\"]==\"No internet service\" else 0],\n",
    "                             'DeviceProtection_Yes':[1 if request.form[\"DeviceProtection\"]==\"Yes\" else 0],\n",
    "                             'TechSupport_No':[1 if request.form[\"TechSupport\"]==\"No\" else 0],'TechSupport_No internet service':[1 if request.form[\"TechSupport\"]==\"No internet service\" else 0],\n",
    "                             'TechSupport_Yes':[1 if request.form[\"TechSupport\"]==\"Yes\" else 0], 'Contract_Month-to-month':[1 if request.form[\"Contract\"]==\"Month-to-month\" else 0],\n",
    "                             'Contract_One year':[1 if request.form[\"Contract\"]==\"One year\" else 0], 'Contract_Two year':[1 if request.form[\"Contract\"]==\"Two year\" else 0],\n",
    "                             'PaperlessBilling_No':[1 if request.form[\"PaperlessBilling\"]==\"No\" else 0],'PaperlessBilling_Yes':[1 if request.form[\"PaperlessBilling\"]==\"Yes\" else 0],\n",
    "                             'PaymentMethod_Bank transfer (automatic)':[1 if request.form[\"PaymentMethod\"]==\"Bank transfer (automatic)\" else 0],\n",
    "                             'PaymentMethod_Credit card (automatic)':[1 if request.form[\"PaymentMethod\"]==\"Credit card (automatic)\" else 0],\n",
    "                             'PaymentMethod_Electronic check':[1 if request.form[\"PaymentMethod\"]==\"Electronic check\" else 0],\n",
    "                             'PaymentMethod_Mailed check':[1 if request.form[\"PaymentMethod\"]==\"Mailed check\" else 0], 'Streaming_Movies':[1 if request.form[\"Streaming\"]==\"Movies\" else 0],\n",
    "                             'Streaming_No internet service':[1 if request.form[\"Streaming\"]==\"No internet service\" else 0],\n",
    "                             'Streaming_None':[1 if request.form[\"Streaming\"]==\"None\" else 0], 'Streaming_TV':[1 if request.form[\"Streaming\"]==\"TV\" else 0],\n",
    "                             'Streaming_TV & Movies':[1 if request.form[\"Streaming\"]==\"TV & Movies\" else 0]})\n",
    "    \n",
    "    #For rendering results on HTML GUI\n",
    "    prediction_prob = list(loaded_model.predict_proba(pred_data)[:,1])[0]\n",
    "    print(prediction_prob)\n",
    "    if prediction_prob >= 0.8:\n",
    "        outcome = \"CHURN\"\n",
    "        campaign = \"RENTENTION CAMPAIGN (Tenure, Monthly charge, Has partner, No dependent, Has phone service, Likes paperless billing)\"\n",
    "    else:\n",
    "        outcome = \"NOT CHURN\"\n",
    "        campaign = \"NO CAMPAIGN NEEDED\"\n",
    "    \n",
    "    return render_template('Form.html', prediction_text='Predicted status :{}, '.format(outcome),campaign_text= campaign)\n",
    "\n",
    "if __name__ == '__main__':\n",
    "    app.run()"
   ]
  },
  {
   "cell_type": "code",
   "execution_count": 105,
   "metadata": {},
   "outputs": [
    {
     "data": {
      "text/plain": [
       "0.7945789226126041"
      ]
     },
     "execution_count": 105,
     "metadata": {},
     "output_type": "execute_result"
    }
   ],
   "source": [
    "list(loaded_model.predict_proba(test_X[0:1])[:,1])[0]"
   ]
  }
 ],
 "metadata": {
  "kernelspec": {
   "display_name": "Python 3",
   "language": "python",
   "name": "python3"
  },
  "language_info": {
   "codemirror_mode": {
    "name": "ipython",
    "version": 3
   },
   "file_extension": ".py",
   "mimetype": "text/x-python",
   "name": "python",
   "nbconvert_exporter": "python",
   "pygments_lexer": "ipython3",
   "version": "3.7.1"
  }
 },
 "nbformat": 4,
 "nbformat_minor": 2
}
